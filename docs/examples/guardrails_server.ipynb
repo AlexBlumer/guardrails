{
 "cells": [
  {
   "cell_type": "code",
   "execution_count": 1,
   "metadata": {},
   "outputs": [
    {
     "name": "stdout",
     "output_type": "stream",
     "text": [
      "\n",
      "\u001b[1m[\u001b[0m\u001b[34;49mnotice\u001b[0m\u001b[1;39;49m]\u001b[0m\u001b[39;49m A new release of pip is available: \u001b[0m\u001b[31;49m24.0\u001b[0m\u001b[39;49m -> \u001b[0m\u001b[32;49m24.1\u001b[0m\n",
      "\u001b[1m[\u001b[0m\u001b[34;49mnotice\u001b[0m\u001b[1;39;49m]\u001b[0m\u001b[39;49m To update, run: \u001b[0m\u001b[32;49mpip install --upgrade pip\u001b[0m\n"
     ]
    }
   ],
   "source": [
    "! pip install \"guardrails-ai[api]==0.5.0a4\" -q"
   ]
  },
  {
   "cell_type": "code",
   "execution_count": 2,
   "metadata": {},
   "outputs": [
    {
     "name": "stdout",
     "output_type": "stream",
     "text": [
      "/Users/calebcourier/Downloads/demo-050/.venv/bin/guardrails\n"
     ]
    }
   ],
   "source": [
    "! which guardrails"
   ]
  },
  {
   "cell_type": "code",
   "execution_count": 3,
   "metadata": {},
   "outputs": [
    {
     "name": "stdout",
     "output_type": "stream",
     "text": [
      "Installing hub:\u001b[35m/\u001b[0m\u001b[35m/guardrails/\u001b[0m\u001b[95mregex_match...\u001b[0m\n",
      "✅Successfully installed guardrails/regex_match!\n",
      "\n",
      "\n"
     ]
    }
   ],
   "source": [
    "! guardrails hub install hub://guardrails/regex_match --quiet"
   ]
  },
  {
   "cell_type": "code",
   "execution_count": null,
   "metadata": {},
   "outputs": [],
   "source": [
    "# Run this in a terminal\n",
    "# guardrails start --config=./data/config.py"
   ]
  },
  {
   "cell_type": "code",
   "execution_count": 3,
   "metadata": {},
   "outputs": [
    {
     "data": {
      "text/html": [
       "<pre style=\"white-space:pre;overflow-x:auto;line-height:normal;font-family:Menlo,'DejaVu Sans Mono',consolas,'Courier New',monospace\">some-token\n",
       "</pre>\n"
      ],
      "text/plain": [
       "some-token\n"
      ]
     },
     "metadata": {},
     "output_type": "display_data"
    },
    {
     "data": {
      "text/html": [
       "<pre style=\"white-space:pre;overflow-x:auto;line-height:normal;font-family:Menlo,'DejaVu Sans Mono',consolas,'Courier New',monospace\"><span style=\"color: #0000ff; text-decoration-color: #0000ff; text-decoration: underline\">http://localhost:8000</span>\n",
       "</pre>\n"
      ],
      "text/plain": [
       "\u001b[4;94mhttp://localhost:8000\u001b[0m\n"
      ]
     },
     "metadata": {},
     "output_type": "display_data"
    }
   ],
   "source": [
    "import os\n",
    "\n",
    "os.environ[\"GUARDRAILS_API_KEY\"] = \"some-token\"\n",
    "os.environ[\"GUARDRAILS_BASE_URL\"] = \"http://localhost:8000\"\n",
    "\n",
    "\n",
    "print(os.environ.get(\"GUARDRAILS_API_KEY\"))\n",
    "print(os.environ.get(\"GUARDRAILS_BASE_URL\"))"
   ]
  },
  {
   "cell_type": "code",
   "execution_count": 4,
   "metadata": {},
   "outputs": [
    {
     "name": "stderr",
     "output_type": "stream",
     "text": [
      "/Users/calebcourier/Downloads/demo-050/.venv/lib/python3.12/site-packages/guardrails/validator_base.py:144: UserWarning: Validator with id guardrails/regex_match was not found in the registry!  Ignoring...\n",
      "  warn(f\"Validator with id {name} was not found in the registry!  Ignoring...\")\n"
     ]
    },
    {
     "data": {
      "text/html": [
       "<pre style=\"white-space:pre;overflow-x:auto;line-height:normal;font-family:Menlo,'DejaVu Sans Mono',consolas,'Courier New',monospace\"><span style=\"color: #800080; text-decoration-color: #800080; font-weight: bold\">ValidationOutcome</span><span style=\"font-weight: bold\">(</span>\n",
       "    <span style=\"color: #808000; text-decoration-color: #808000\">call_id</span>=<span style=\"color: #008000; text-decoration-color: #008000\">'4593646352'</span>,\n",
       "    <span style=\"color: #808000; text-decoration-color: #808000\">raw_llm_output</span>=<span style=\"color: #008000; text-decoration-color: #008000\">'z-dawg'</span>,\n",
       "    <span style=\"color: #808000; text-decoration-color: #808000\">validated_output</span>=<span style=\"color: #008000; text-decoration-color: #008000\">'z-dawg'</span>,\n",
       "    <span style=\"color: #808000; text-decoration-color: #808000\">reask</span>=<span style=\"color: #800080; text-decoration-color: #800080; font-style: italic\">None</span>,\n",
       "    <span style=\"color: #808000; text-decoration-color: #808000\">validation_passed</span>=<span style=\"color: #ff0000; text-decoration-color: #ff0000; font-style: italic\">False</span>,\n",
       "    <span style=\"color: #808000; text-decoration-color: #808000\">error</span>=<span style=\"color: #800080; text-decoration-color: #800080; font-style: italic\">None</span>\n",
       "<span style=\"font-weight: bold\">)</span>\n",
       "</pre>\n"
      ],
      "text/plain": [
       "\u001b[1;35mValidationOutcome\u001b[0m\u001b[1m(\u001b[0m\n",
       "    \u001b[33mcall_id\u001b[0m=\u001b[32m'4593646352'\u001b[0m,\n",
       "    \u001b[33mraw_llm_output\u001b[0m=\u001b[32m'z-dawg'\u001b[0m,\n",
       "    \u001b[33mvalidated_output\u001b[0m=\u001b[32m'z-dawg'\u001b[0m,\n",
       "    \u001b[33mreask\u001b[0m=\u001b[3;35mNone\u001b[0m,\n",
       "    \u001b[33mvalidation_passed\u001b[0m=\u001b[3;91mFalse\u001b[0m,\n",
       "    \u001b[33merror\u001b[0m=\u001b[3;35mNone\u001b[0m\n",
       "\u001b[1m)\u001b[0m\n"
      ]
     },
     "metadata": {},
     "output_type": "display_data"
    }
   ],
   "source": [
    "import logging\n",
    "from rich import print\n",
    "from guardrails import configure_logging\n",
    "from guardrails import Guard\n",
    "\n",
    "\n",
    "configure_logging(None, log_level=logging.DEBUG)\n",
    "\n",
    "name_case = Guard(name='name-case')\n",
    "\n",
    "response = name_case.parse(\n",
    "    llm_output=\"z-dawg\"\n",
    ")\n",
    "\n",
    "print(response)"
   ]
  },
  {
   "cell_type": "code",
   "execution_count": 5,
   "metadata": {},
   "outputs": [
    {
     "data": {
      "text/html": [
       "<pre style=\"white-space:pre;overflow-x:auto;line-height:normal;font-family:Menlo,'DejaVu Sans Mono',consolas,'Courier New',monospace\"><span style=\"font-weight: bold\">[</span>\n",
       "    <span style=\"color: #800080; text-decoration-color: #800080; font-weight: bold\">Call</span><span style=\"font-weight: bold\">(</span>\n",
       "        <span style=\"color: #808000; text-decoration-color: #808000\">id</span>=<span style=\"color: #008000; text-decoration-color: #008000\">'4593646352'</span>,\n",
       "        <span style=\"color: #808000; text-decoration-color: #808000\">iterations</span>=<span style=\"font-weight: bold\">[</span>\n",
       "            <span style=\"color: #800080; text-decoration-color: #800080; font-weight: bold\">Iteration</span><span style=\"font-weight: bold\">(</span>\n",
       "                <span style=\"color: #808000; text-decoration-color: #808000\">id</span>=<span style=\"color: #008000; text-decoration-color: #008000\">'4588121904'</span>,\n",
       "                <span style=\"color: #808000; text-decoration-color: #808000\">index</span>=<span style=\"color: #008080; text-decoration-color: #008080; font-weight: bold\">0</span>,\n",
       "                <span style=\"color: #808000; text-decoration-color: #808000\">call_id</span>=<span style=\"color: #008000; text-decoration-color: #008000\">'4593646352'</span>,\n",
       "                <span style=\"color: #808000; text-decoration-color: #808000\">inputs</span>=<span style=\"color: #800080; text-decoration-color: #800080; font-weight: bold\">Inputs</span><span style=\"font-weight: bold\">(</span>\n",
       "                    <span style=\"color: #808000; text-decoration-color: #808000\">llm_api</span>=<span style=\"color: #800080; text-decoration-color: #800080; font-style: italic\">None</span>,\n",
       "                    <span style=\"color: #808000; text-decoration-color: #808000\">llm_output</span>=<span style=\"color: #008000; text-decoration-color: #008000\">'z-dawg'</span>,\n",
       "                    <span style=\"color: #808000; text-decoration-color: #808000\">instructions</span>=<span style=\"color: #800080; text-decoration-color: #800080; font-style: italic\">None</span>,\n",
       "                    <span style=\"color: #808000; text-decoration-color: #808000\">prompt</span>=<span style=\"color: #800080; text-decoration-color: #800080; font-style: italic\">None</span>,\n",
       "                    <span style=\"color: #808000; text-decoration-color: #808000\">msg_history</span>=<span style=\"color: #800080; text-decoration-color: #800080; font-style: italic\">None</span>,\n",
       "                    <span style=\"color: #808000; text-decoration-color: #808000\">prompt_params</span>=<span style=\"font-weight: bold\">{}</span>,\n",
       "                    <span style=\"color: #808000; text-decoration-color: #808000\">num_reasks</span>=<span style=\"color: #008080; text-decoration-color: #008080; font-weight: bold\">0</span>,\n",
       "                    <span style=\"color: #808000; text-decoration-color: #808000\">metadata</span>=<span style=\"font-weight: bold\">{}</span>,\n",
       "                    <span style=\"color: #808000; text-decoration-color: #808000\">full_schema_reask</span>=<span style=\"color: #ff0000; text-decoration-color: #ff0000; font-style: italic\">False</span>,\n",
       "                    <span style=\"color: #808000; text-decoration-color: #808000\">stream</span>=<span style=\"color: #ff0000; text-decoration-color: #ff0000; font-style: italic\">False</span>\n",
       "                <span style=\"font-weight: bold\">)</span>,\n",
       "                <span style=\"color: #808000; text-decoration-color: #808000\">outputs</span>=<span style=\"color: #800080; text-decoration-color: #800080; font-weight: bold\">Outputs</span><span style=\"font-weight: bold\">(</span>\n",
       "                    <span style=\"color: #808000; text-decoration-color: #808000\">llm_response_info</span>=<span style=\"color: #800080; text-decoration-color: #800080; font-weight: bold\">LLMResponse</span><span style=\"font-weight: bold\">(</span>\n",
       "                        <span style=\"color: #808000; text-decoration-color: #808000\">prompt_token_count</span>=<span style=\"color: #800080; text-decoration-color: #800080; font-style: italic\">None</span>,\n",
       "                        <span style=\"color: #808000; text-decoration-color: #808000\">response_token_count</span>=<span style=\"color: #800080; text-decoration-color: #800080; font-style: italic\">None</span>,\n",
       "                        <span style=\"color: #808000; text-decoration-color: #808000\">output</span>=<span style=\"color: #008000; text-decoration-color: #008000\">'z-dawg'</span>,\n",
       "                        <span style=\"color: #808000; text-decoration-color: #808000\">stream_output</span>=<span style=\"color: #800080; text-decoration-color: #800080; font-style: italic\">None</span>,\n",
       "                        <span style=\"color: #808000; text-decoration-color: #808000\">async_stream_output</span>=<span style=\"color: #800080; text-decoration-color: #800080; font-style: italic\">None</span>\n",
       "                    <span style=\"font-weight: bold\">)</span>,\n",
       "                    <span style=\"color: #808000; text-decoration-color: #808000\">raw_output</span>=<span style=\"color: #800080; text-decoration-color: #800080; font-style: italic\">None</span>,\n",
       "                    <span style=\"color: #808000; text-decoration-color: #808000\">parsed_output</span>=<span style=\"color: #008000; text-decoration-color: #008000\">'z-dawg'</span>,\n",
       "                    <span style=\"color: #808000; text-decoration-color: #808000\">validation_response</span>=<span style=\"color: #008000; text-decoration-color: #008000\">'z-dawg'</span>,\n",
       "                    <span style=\"color: #808000; text-decoration-color: #808000\">guarded_output</span>=<span style=\"color: #008000; text-decoration-color: #008000\">'z-dawg'</span>,\n",
       "                    <span style=\"color: #808000; text-decoration-color: #808000\">reasks</span>=<span style=\"font-weight: bold\">[]</span>,\n",
       "                    <span style=\"color: #808000; text-decoration-color: #808000\">validator_logs</span>=<span style=\"font-weight: bold\">[</span>\n",
       "                        <span style=\"color: #800080; text-decoration-color: #800080; font-weight: bold\">ValidatorLogs</span><span style=\"font-weight: bold\">(</span>\n",
       "                            <span style=\"color: #808000; text-decoration-color: #808000\">validator_name</span>=<span style=\"color: #008000; text-decoration-color: #008000\">'RegexMatch'</span>,\n",
       "                            <span style=\"color: #808000; text-decoration-color: #808000\">registered_name</span>=<span style=\"color: #008000; text-decoration-color: #008000\">'guardrails/regex_match'</span>,\n",
       "                            <span style=\"color: #808000; text-decoration-color: #808000\">instance_id</span>=<span style=\"color: #008080; text-decoration-color: #008080; font-weight: bold\">4586558176</span>,\n",
       "                            <span style=\"color: #808000; text-decoration-color: #808000\">property_path</span>=<span style=\"color: #008000; text-decoration-color: #008000\">'$'</span>,\n",
       "                            <span style=\"color: #808000; text-decoration-color: #808000\">value_before_validation</span>=<span style=\"color: #008000; text-decoration-color: #008000\">'z-dawg'</span>,\n",
       "                            <span style=\"color: #808000; text-decoration-color: #808000\">value_after_validation</span>=<span style=\"color: #008000; text-decoration-color: #008000\">'z-dawg'</span>,\n",
       "                            <span style=\"color: #808000; text-decoration-color: #808000\">validation_result</span>=<span style=\"color: #800080; text-decoration-color: #800080; font-weight: bold\">FailResult</span><span style=\"font-weight: bold\">(</span>\n",
       "                                <span style=\"color: #808000; text-decoration-color: #808000\">outcome</span>=<span style=\"color: #008000; text-decoration-color: #008000\">'fail'</span>,\n",
       "                                <span style=\"color: #808000; text-decoration-color: #808000\">error_message</span>=<span style=\"color: #008000; text-decoration-color: #008000\">'Result must match ^(?:[A-Z][^\\\\s]*\\\\s?)+$'</span>,\n",
       "                                <span style=\"color: #808000; text-decoration-color: #808000\">fix_value</span>=<span style=\"color: #008000; text-decoration-color: #008000\">'Rb[@1K(ZD}uodO$mh]XmheJWHC2lbc\\rA*L(^Hi6el(h1Gdw;f*4\"$b3e+K;_EDp:Rvh,/!T</span>\n",
       "<span style=\"color: #008000; text-decoration-color: #008000\">C}!u4o\"}-B\\\\6Eh6{9qFpw,t[`:y;gOTt22VvnR;[kX_02kE-#R8iJ.8zJbt&gt;\\\\.FW/&gt;\\'QBTtqyym]Ra4\\'&gt;;\\'imC_zF14Ks`BE@k_NA </span>\n",
       "<span style=\"color: #008000; text-decoration-color: #008000\">Bq*_Q9~Q&gt;hv33+ktfKk|;+k|?GMcF~&gt;z6]j&amp;$7Cb{A},#P.Lw]Al1lU\\':Ig3Q*Ezm8I4\\'|RoR9K-vRf+yN]8`PYO0G=7BWxLDr2kQ4`4lZ!,jW;YY</span>\n",
       "<span style=\"color: #008000; text-decoration-color: #008000\">38eUep*UOV~0@z#$N*3PldH0solD7Q^lu\\\\$RSJ[O*3)B$C{8oK_]U6#Kd}1)pZ?Doqm8J#`QDK*H2:I8ex]g1[,DT\"#:ZpEW_)Jk&gt;C\\'mA{0IJ{B6+</span>\n",
       "<span style=\"color: #008000; text-decoration-color: #008000\">Z&gt;yIDB#HC@%KMMJ?b=`r6X)M\"`eyvUs`&amp;XL{xRW;\\'s4S&lt;Alf9or39ZM~#:YB5HNNw9CxIhA}6``j7=GS7LE1zH8;|7y*^Gal/&gt;8B\\\\l$c|\\\\9~B@&amp;j</span>\n",
       "<span style=\"color: #008000; text-decoration-color: #008000\">a(\\\\yKa#qL)@/#y}O43&amp;iMBC{0E&amp;ta{`R7`&gt;^&amp;*}bA18$tNQGiVPWl[(Blp{3JA$Dv=pPMMGP,&lt;CQ*Z}!HhvLRDzOL@#}Q{Ppj}!/oLD)DZSP!.GcYc</span>\n",
       "<span style=\"color: #008000; text-decoration-color: #008000\">,hT1:Y9$qrr^L7kT9#&gt;rF~O\\x0cRMfxAYpC!L?-~&gt;T`sM?\\'*LB\\x0cHhODokB5Z@Z21kfc4w&amp;}t3}8F|A.3{\\rNgwdgEI7*cY\"ii-Dk8u4ZaG(C/pD</span>\n",
       "<span style=\"color: #008000; text-decoration-color: #008000\">}X!|Cp&amp;hu*/S5}\\\\l@U&amp;:=?1_(HX(um_.x9X+J.i81snKUZnMt_Lb4hsg|@_$wp+D3a,~?0vw\\'JW4O#xrllcY}WlRA?lzEhsoR3kE,d\\'\"X~N`4;hT</span>\n",
       "<span style=\"color: #008000; text-decoration-color: #008000\">0*\\x0bGaXM{8=N+d)[#65\"d]+.9Bg;X_JU[G/1JHA@@|#*Z)3J38f)DmcE:+/\\x0cHL`Eq*5c#G}f`EXDMPd-Mh5%5_:J)j+;n(ql`eTyoz-CR^c&lt;Re</span>\n",
       "<span style=\"color: #008000; text-decoration-color: #008000\">I!l0,EclkG9&amp;jxkUQM\\x0cITy\\\\{:%WKAo-[Z3MAA?TVAPMeS#D2W@W?*olx,IuKyo3zpPc?aQ;-zu]S6AlIiV0jf)G[M2sl)9?yv&lt;I@.j[42B9vaec</span>\n",
       "<span style=\"color: #008000; text-decoration-color: #008000\">^ubuj]M?\\rGhh;ep2bg\\\\|#DUYh)2#I7$x^]:[K&gt;A-FlCii\"fp~5u`?D$Z(a@r9iY&lt;Baiv$`[rm0vk\\\\fejLZd{V&amp;8`Y-\"VJ16E~*b-&amp;W5mq1mXafz6</span>\n",
       "<span style=\"color: #008000; text-decoration-color: #008000\">4vvjYQ#6%R_x?5Jok*~-D\\\\JK9ccn\\'dB\"^;(|[C:UvhG{R?]b&lt;gCTPYlVu2\\\\?B&amp;mTY=.0ER(TaBY{t:]W#L0l~kXJm\"e=&gt;eg=H!_z`8{Wcb7Xg+9t</span>\n",
       "<span style=\"color: #008000; text-decoration-color: #008000\">v@&lt;/J\\\\R6\\\\B@N%gr3^~x%9Ee%&amp;\\\\JU&lt;wEsUm`E2\"=Hi1?kLnsmgU^N^=5w415S@=4_;]Cmul\\rVs`^fZo$&lt;mDX^I}N,NK;}^gvMe\\'_joN\\'3g@:^R</span>\n",
       "<span style=\"color: #008000; text-decoration-color: #008000\">kkJY^LU*3~=FjS;6.UCC|\"UQ\\rUolzK;pWH~6&gt;8qv7?M7,.&gt;e}KfvqmKK9\\'ZdhB;*3)&lt;0,R+Jlt3.go3=UK\\'yj\\'Z==[dOwSe]s(shfX({4~4efq~</span>\n",
       "<span style=\"color: #008000; text-decoration-color: #008000\">5j+;_R(t,H-q,-\\x0bN_/*MiPKOlE)ab0wg\\rAYAJ&lt;VC*Ya8Dt02VaI\\\\X0&lt;:4PGmsVVDj5%aHQN:\\\\k&gt;c7JY^l3{+9AA]~J-(i6[&gt;/am{T)*=:9TZ)</span>\n",
       "<span style=\"color: #008000; text-decoration-color: #008000\">hMyg(W4B61Y5\\\\\\\\R_lRT&amp;$C|19TY#{F!8^\\\\N%b)\\'J?EQoH6&lt;yF7HEcRmfSNz!9*k0!$ARAX^&lt;zb8?uvt,2[DyT|w:vx}MF\\'%mKi\\'&amp;Mg^oJKBu}</span>\n",
       "<span style=\"color: #008000; text-decoration-color: #008000\">(v#6vh\\x0cLF&lt;BZ;2:\\rGIzjF=@qr~Y#ls5\"d,$/C6vhIx77+UZ-}B4w.&lt;xMDZiW;\"1f1R~5fI:DzUEJ.INO4u;f$pol{}I\\nQ=X\\\\\"e~w.e9+8xN\"\\</span>\n",
       "<span style=\"color: #008000; text-decoration-color: #008000\">'Tc0Nor:9mfG&lt;2]KrtG5Z$b?&gt;@)@^zeO\"&gt;[A@F6/DA/1:)}]z#K7%|GN/|s;0~rPemA({6S\"y({_Hs@9ON&gt;r0cm\\x0cHeL\\'\\'l~&gt;W?DW\".kEdz=Yn1</span>\n",
       "<span style=\"color: #008000; text-decoration-color: #008000\">E5m=IelWe2k-SP\"|=;(|[=WG2qI\\nYdihR~Dr45%Y@K=[k%g%2$c^xPUbxW*lzVHW@G_ymLo1i\\x0cLAKPz@Y;cc\"iSBiCHM0S)/:&gt;M{%?zeP5_8*N_</span>\n",
       "<span style=\"color: #008000; text-decoration-color: #008000\">ijWjS2Pw=$9\";xE2D;&gt;4-*%XP!3\\'Ggc(ERo\\'b*Jt}:uvSDL(/ </span>\n",
       "<span style=\"color: #008000; text-decoration-color: #008000\">O5s+oyIEoBA%WYA^DAc30aj9fsc\\\\gh\\\\B[xKOrT&amp;%|pg\\x0bOW?wUJOngrPag,&amp;7t4%\\'#}?1JA+z]FIu\\'(JDC{kW4)GSsq[yzZ?6\\'=)5Z]E=4=_</span>\n",
       "<span style=\"color: #008000; text-decoration-color: #008000\">W0eIeebu=8\"~uh&lt;kfQab7%a&amp;y$rRb:WLHx48U}dwCp%]MAvGV]&gt;Q\\\\LA%Hh~*T4~\"t!EZ#pNn?:J#s4VVI)fE </span>\n",
       "<span style=\"color: #008000; text-decoration-color: #008000\">A660O)GO$B6*,J\"9+Dd-Yx\\\\P2cTIVe,t%qvs*@h]wMSYG19,Ww6E4aR44Sat1PF${OG@%,.33A-p9G[Q#sRWZf?7Z0!_v]v$+qzkp^rD=.:E#yUg)]</span>\n",
       "<span style=\"color: #008000; text-decoration-color: #008000\">yXw+/bJp@9&lt;kM?+zYV]:1qa|2zeDL*I^zFa\"=KAZzv?.LssH_(,4\\'[8g1O8tL&amp;1ys|&gt;l\\'z]GG%hPk!J!]$*Ez*kR]%n;H\\\\\\'c&amp;~q&lt;lDN73*|gW2X</span>\n",
       "<span style=\"color: #008000; text-decoration-color: #008000\">B:@joK]}j-_GDuE73e8%G=@A,pj&amp;wTMk!I69S3,&gt;,#?^p;:.ADr)$vv\"Ddb9wV_p--,(7/E$()O`jZ\\rWah00;;/9|bou3$*4Uo/y)Tc8]]SK@,$L\\'</span>\n",
       "<span style=\"color: #008000; text-decoration-color: #008000\">OdL!$Q?!~=j\\'kB\\'L42@nj]$V:9XY^[uQwh*F=%z&amp;L,&amp;:@1I'</span>,\n",
       "                                <span style=\"color: #808000; text-decoration-color: #808000\">error_spans</span>=<span style=\"color: #800080; text-decoration-color: #800080; font-style: italic\">None</span>,\n",
       "                                <span style=\"color: #808000; text-decoration-color: #808000\">metadata</span>=<span style=\"color: #800080; text-decoration-color: #800080; font-style: italic\">None</span>,\n",
       "                                <span style=\"color: #808000; text-decoration-color: #808000\">validated_chunk</span>=<span style=\"color: #800080; text-decoration-color: #800080; font-style: italic\">None</span>\n",
       "                            <span style=\"font-weight: bold\">)</span>,\n",
       "                            <span style=\"color: #808000; text-decoration-color: #808000\">start_time</span>=<span style=\"color: #800080; text-decoration-color: #800080; font-weight: bold\">datetime</span><span style=\"color: #800080; text-decoration-color: #800080; font-weight: bold\">.datetime</span><span style=\"font-weight: bold\">(</span><span style=\"color: #008080; text-decoration-color: #008080; font-weight: bold\">2024</span>, <span style=\"color: #008080; text-decoration-color: #008080; font-weight: bold\">6</span>, <span style=\"color: #008080; text-decoration-color: #008080; font-weight: bold\">25</span>, <span style=\"color: #008080; text-decoration-color: #008080; font-weight: bold\">14</span>, <span style=\"color: #008080; text-decoration-color: #008080; font-weight: bold\">19</span>, <span style=\"color: #008080; text-decoration-color: #008080; font-weight: bold\">56</span>, <span style=\"color: #008080; text-decoration-color: #008080; font-weight: bold\">81461</span><span style=\"font-weight: bold\">)</span>,\n",
       "                            <span style=\"color: #808000; text-decoration-color: #808000\">end_time</span>=<span style=\"color: #800080; text-decoration-color: #800080; font-weight: bold\">datetime</span><span style=\"color: #800080; text-decoration-color: #800080; font-weight: bold\">.datetime</span><span style=\"font-weight: bold\">(</span><span style=\"color: #008080; text-decoration-color: #008080; font-weight: bold\">2024</span>, <span style=\"color: #008080; text-decoration-color: #008080; font-weight: bold\">6</span>, <span style=\"color: #008080; text-decoration-color: #008080; font-weight: bold\">25</span>, <span style=\"color: #008080; text-decoration-color: #008080; font-weight: bold\">14</span>, <span style=\"color: #008080; text-decoration-color: #008080; font-weight: bold\">19</span>, <span style=\"color: #008080; text-decoration-color: #008080; font-weight: bold\">56</span>, <span style=\"color: #008080; text-decoration-color: #008080; font-weight: bold\">94752</span><span style=\"font-weight: bold\">)</span>\n",
       "                        <span style=\"font-weight: bold\">)</span>\n",
       "                    <span style=\"font-weight: bold\">]</span>,\n",
       "                    <span style=\"color: #808000; text-decoration-color: #808000\">error</span>=<span style=\"color: #800080; text-decoration-color: #800080; font-style: italic\">None</span>,\n",
       "                    <span style=\"color: #808000; text-decoration-color: #808000\">exception</span>=<span style=\"color: #800080; text-decoration-color: #800080; font-style: italic\">None</span>\n",
       "                <span style=\"font-weight: bold\">)</span>\n",
       "            <span style=\"font-weight: bold\">)</span>\n",
       "        <span style=\"font-weight: bold\">]</span>,\n",
       "        <span style=\"color: #808000; text-decoration-color: #808000\">inputs</span>=<span style=\"color: #800080; text-decoration-color: #800080; font-weight: bold\">CallInputs</span><span style=\"font-weight: bold\">(</span>\n",
       "            <span style=\"color: #808000; text-decoration-color: #808000\">llm_api</span>=<span style=\"color: #800080; text-decoration-color: #800080; font-style: italic\">None</span>,\n",
       "            <span style=\"color: #808000; text-decoration-color: #808000\">llm_output</span>=<span style=\"color: #800080; text-decoration-color: #800080; font-style: italic\">None</span>,\n",
       "            <span style=\"color: #808000; text-decoration-color: #808000\">instructions</span>=<span style=\"color: #800080; text-decoration-color: #800080; font-style: italic\">None</span>,\n",
       "            <span style=\"color: #808000; text-decoration-color: #808000\">prompt</span>=<span style=\"color: #800080; text-decoration-color: #800080; font-style: italic\">None</span>,\n",
       "            <span style=\"color: #808000; text-decoration-color: #808000\">msg_history</span>=<span style=\"color: #800080; text-decoration-color: #800080; font-style: italic\">None</span>,\n",
       "            <span style=\"color: #808000; text-decoration-color: #808000\">prompt_params</span>=<span style=\"font-weight: bold\">{}</span>,\n",
       "            <span style=\"color: #808000; text-decoration-color: #808000\">num_reasks</span>=<span style=\"color: #008080; text-decoration-color: #008080; font-weight: bold\">0</span>,\n",
       "            <span style=\"color: #808000; text-decoration-color: #808000\">metadata</span>=<span style=\"font-weight: bold\">{}</span>,\n",
       "            <span style=\"color: #808000; text-decoration-color: #808000\">full_schema_reask</span>=<span style=\"color: #ff0000; text-decoration-color: #ff0000; font-style: italic\">False</span>,\n",
       "            <span style=\"color: #808000; text-decoration-color: #808000\">stream</span>=<span style=\"color: #ff0000; text-decoration-color: #ff0000; font-style: italic\">False</span>,\n",
       "            <span style=\"color: #808000; text-decoration-color: #808000\">args</span>=<span style=\"font-weight: bold\">[]</span>,\n",
       "            <span style=\"color: #808000; text-decoration-color: #808000\">kwargs</span>=<span style=\"font-weight: bold\">{</span><span style=\"color: #008000; text-decoration-color: #008000\">'api_key'</span>: <span style=\"color: #008000; text-decoration-color: #008000\">'***********************************************69ck'</span><span style=\"font-weight: bold\">}</span>\n",
       "        <span style=\"font-weight: bold\">)</span>,\n",
       "        <span style=\"color: #808000; text-decoration-color: #808000\">exception</span>=<span style=\"color: #800080; text-decoration-color: #800080; font-style: italic\">None</span>\n",
       "    <span style=\"font-weight: bold\">)</span>\n",
       "<span style=\"font-weight: bold\">]</span>\n",
       "</pre>\n"
      ],
      "text/plain": [
       "\u001b[1m[\u001b[0m\n",
       "    \u001b[1;35mCall\u001b[0m\u001b[1m(\u001b[0m\n",
       "        \u001b[33mid\u001b[0m=\u001b[32m'4593646352'\u001b[0m,\n",
       "        \u001b[33miterations\u001b[0m=\u001b[1m[\u001b[0m\n",
       "            \u001b[1;35mIteration\u001b[0m\u001b[1m(\u001b[0m\n",
       "                \u001b[33mid\u001b[0m=\u001b[32m'4588121904'\u001b[0m,\n",
       "                \u001b[33mindex\u001b[0m=\u001b[1;36m0\u001b[0m,\n",
       "                \u001b[33mcall_id\u001b[0m=\u001b[32m'4593646352'\u001b[0m,\n",
       "                \u001b[33minputs\u001b[0m=\u001b[1;35mInputs\u001b[0m\u001b[1m(\u001b[0m\n",
       "                    \u001b[33mllm_api\u001b[0m=\u001b[3;35mNone\u001b[0m,\n",
       "                    \u001b[33mllm_output\u001b[0m=\u001b[32m'z-dawg'\u001b[0m,\n",
       "                    \u001b[33minstructions\u001b[0m=\u001b[3;35mNone\u001b[0m,\n",
       "                    \u001b[33mprompt\u001b[0m=\u001b[3;35mNone\u001b[0m,\n",
       "                    \u001b[33mmsg_history\u001b[0m=\u001b[3;35mNone\u001b[0m,\n",
       "                    \u001b[33mprompt_params\u001b[0m=\u001b[1m{\u001b[0m\u001b[1m}\u001b[0m,\n",
       "                    \u001b[33mnum_reasks\u001b[0m=\u001b[1;36m0\u001b[0m,\n",
       "                    \u001b[33mmetadata\u001b[0m=\u001b[1m{\u001b[0m\u001b[1m}\u001b[0m,\n",
       "                    \u001b[33mfull_schema_reask\u001b[0m=\u001b[3;91mFalse\u001b[0m,\n",
       "                    \u001b[33mstream\u001b[0m=\u001b[3;91mFalse\u001b[0m\n",
       "                \u001b[1m)\u001b[0m,\n",
       "                \u001b[33moutputs\u001b[0m=\u001b[1;35mOutputs\u001b[0m\u001b[1m(\u001b[0m\n",
       "                    \u001b[33mllm_response_info\u001b[0m=\u001b[1;35mLLMResponse\u001b[0m\u001b[1m(\u001b[0m\n",
       "                        \u001b[33mprompt_token_count\u001b[0m=\u001b[3;35mNone\u001b[0m,\n",
       "                        \u001b[33mresponse_token_count\u001b[0m=\u001b[3;35mNone\u001b[0m,\n",
       "                        \u001b[33moutput\u001b[0m=\u001b[32m'z-dawg'\u001b[0m,\n",
       "                        \u001b[33mstream_output\u001b[0m=\u001b[3;35mNone\u001b[0m,\n",
       "                        \u001b[33masync_stream_output\u001b[0m=\u001b[3;35mNone\u001b[0m\n",
       "                    \u001b[1m)\u001b[0m,\n",
       "                    \u001b[33mraw_output\u001b[0m=\u001b[3;35mNone\u001b[0m,\n",
       "                    \u001b[33mparsed_output\u001b[0m=\u001b[32m'z-dawg'\u001b[0m,\n",
       "                    \u001b[33mvalidation_response\u001b[0m=\u001b[32m'z-dawg'\u001b[0m,\n",
       "                    \u001b[33mguarded_output\u001b[0m=\u001b[32m'z-dawg'\u001b[0m,\n",
       "                    \u001b[33mreasks\u001b[0m=\u001b[1m[\u001b[0m\u001b[1m]\u001b[0m,\n",
       "                    \u001b[33mvalidator_logs\u001b[0m=\u001b[1m[\u001b[0m\n",
       "                        \u001b[1;35mValidatorLogs\u001b[0m\u001b[1m(\u001b[0m\n",
       "                            \u001b[33mvalidator_name\u001b[0m=\u001b[32m'RegexMatch'\u001b[0m,\n",
       "                            \u001b[33mregistered_name\u001b[0m=\u001b[32m'guardrails/regex_match'\u001b[0m,\n",
       "                            \u001b[33minstance_id\u001b[0m=\u001b[1;36m4586558176\u001b[0m,\n",
       "                            \u001b[33mproperty_path\u001b[0m=\u001b[32m'$'\u001b[0m,\n",
       "                            \u001b[33mvalue_before_validation\u001b[0m=\u001b[32m'z-dawg'\u001b[0m,\n",
       "                            \u001b[33mvalue_after_validation\u001b[0m=\u001b[32m'z-dawg'\u001b[0m,\n",
       "                            \u001b[33mvalidation_result\u001b[0m=\u001b[1;35mFailResult\u001b[0m\u001b[1m(\u001b[0m\n",
       "                                \u001b[33moutcome\u001b[0m=\u001b[32m'fail'\u001b[0m,\n",
       "                                \u001b[33merror_message\u001b[0m=\u001b[32m'Result must match ^\u001b[0m\u001b[32m(\u001b[0m\u001b[32m?:\u001b[0m\u001b[32m[\u001b[0m\u001b[32mA-Z\u001b[0m\u001b[32m]\u001b[0m\u001b[32m[\u001b[0m\u001b[32m^\\\\s\u001b[0m\u001b[32m]\u001b[0m\u001b[32m*\\\\s?\u001b[0m\u001b[32m)\u001b[0m\u001b[32m+$'\u001b[0m,\n",
       "                                \u001b[33mfix_value\u001b[0m=\u001b[32m'Rb\u001b[0m\u001b[32m[\u001b[0m\u001b[32m@1K\u001b[0m\u001b[32m(\u001b[0m\u001b[32mZD\u001b[0m\u001b[32m}\u001b[0m\u001b[32muodO$mh\u001b[0m\u001b[32m]\u001b[0m\u001b[32mXmheJWHC2lbc\\rA*L\u001b[0m\u001b[32m(\u001b[0m\u001b[32m^Hi6el\u001b[0m\u001b[32m(\u001b[0m\u001b[32mh1Gdw;f*4\"$b3e+K;_EDp:Rvh,/!T\u001b[0m\n",
       "\u001b[32mC\u001b[0m\u001b[32m}\u001b[0m\u001b[32m!u4o\"\u001b[0m\u001b[32m}\u001b[0m\u001b[32m-B\\\\6Eh6\u001b[0m\u001b[32m{\u001b[0m\u001b[32m9qFpw,t\u001b[0m\u001b[32m[\u001b[0m\u001b[32m`:y;gOTt22VvnR;\u001b[0m\u001b[32m[\u001b[0m\u001b[32mkX_02kE-#R8iJ.8zJbt>\\\\.FW/>\\'QBTtqyym\u001b[0m\u001b[32m]\u001b[0m\u001b[32mRa4\\'>;\\'imC_zF14Ks`BE@k_NA \u001b[0m\n",
       "\u001b[32mBq*_Q9~Q>hv33+ktfKk|;+k|?GMcF~>z6\u001b[0m\u001b[32m]\u001b[0m\u001b[32mj&$7Cb\u001b[0m\u001b[32m{\u001b[0m\u001b[32mA\u001b[0m\u001b[32m}\u001b[0m\u001b[32m,#P.Lw\u001b[0m\u001b[32m]\u001b[0m\u001b[32mAl1lU\\':Ig3Q*Ezm8I4\\'|RoR9K-vRf+yN\u001b[0m\u001b[32m]\u001b[0m\u001b[32m8`\u001b[0m\u001b[32mPYO0G\u001b[0m\u001b[32m=\u001b[0m\u001b[32m7BWxLDr2kQ4\u001b[0m\u001b[32m`4lZ!,jW;YY\u001b[0m\n",
       "\u001b[32m38eUep*UOV~0@z#$N*3PldH0solD7Q^lu\\\\$RSJ\u001b[0m\u001b[32m[\u001b[0m\u001b[32mO*3\u001b[0m\u001b[32m)\u001b[0m\u001b[32mB$C\u001b[0m\u001b[32m{\u001b[0m\u001b[32m8oK_\u001b[0m\u001b[32m]\u001b[0m\u001b[32mU6#Kd\u001b[0m\u001b[32m}\u001b[0m\u001b[32m1\u001b[0m\u001b[32m)\u001b[0m\u001b[32mpZ?Doqm8J#`QDK*H2:I8ex\u001b[0m\u001b[32m]\u001b[0m\u001b[32mg1\u001b[0m\u001b[32m[\u001b[0m\u001b[32m,DT\"#:ZpEW_\u001b[0m\u001b[32m)\u001b[0m\u001b[32mJk>C\\'mA\u001b[0m\u001b[32m{\u001b[0m\u001b[32m0IJ\u001b[0m\u001b[32m{\u001b[0m\u001b[32mB6+\u001b[0m\n",
       "\u001b[32mZ>yIDB#HC@%KMMJ?\u001b[0m\u001b[32mb\u001b[0m\u001b[32m=`r6X\u001b[0m\u001b[32m)\u001b[0m\u001b[32mM\"`eyvUs`&XL\u001b[0m\u001b[32m{\u001b[0m\u001b[32mxRW;\\'s4S\u001b[0m\u001b[32m<\u001b[0m\u001b[32mAlf9or39ZM\u001b[0m\u001b[32m~#:YB5HNNw9CxIhA\u001b[0m\u001b[32m}\u001b[0m\u001b[32m6``\u001b[0m\u001b[32mj7\u001b[0m\u001b[32m=\u001b[0m\u001b[32mGS7LE1zH8\u001b[0m\u001b[32m;|7y*^Gal/>8B\\\\l$c|\\\\9~B@&j\u001b[0m\n",
       "\u001b[32ma\u001b[0m\u001b[32m(\u001b[0m\u001b[32m\\\\yKa#qL\u001b[0m\u001b[32m)\u001b[0m\u001b[32m@/#y\u001b[0m\u001b[32m}\u001b[0m\u001b[32mO43&iMBC\u001b[0m\u001b[32m{\u001b[0m\u001b[32m0E&ta\u001b[0m\u001b[32m{\u001b[0m\u001b[32m`R7`>^&*\u001b[0m\u001b[32m}\u001b[0m\u001b[32mbA18$tNQGiVPWl\u001b[0m\u001b[32m[\u001b[0m\u001b[32m(\u001b[0m\u001b[32mBlp\u001b[0m\u001b[32m{\u001b[0m\u001b[32m3JA$\u001b[0m\u001b[32mDv\u001b[0m\u001b[32m=\u001b[0m\u001b[32mpPMMGP\u001b[0m\u001b[32m,<CQ*Z\u001b[0m\u001b[32m}\u001b[0m\u001b[32m!HhvLRDzOL@#\u001b[0m\u001b[32m}\u001b[0m\u001b[32mQ\u001b[0m\u001b[32m{\u001b[0m\u001b[32mPpj\u001b[0m\u001b[32m}\u001b[0m\u001b[32m!/oLD\u001b[0m\u001b[32m)\u001b[0m\u001b[32mDZSP!.GcYc\u001b[0m\n",
       "\u001b[32m,hT1:Y9$qrr^L7kT9#>rF~O\\x0cRMfxAYpC!L?-~>T`sM?\\'*LB\\x0cHhODokB5Z@Z21kfc4w&\u001b[0m\u001b[32m}\u001b[0m\u001b[32mt3\u001b[0m\u001b[32m}\u001b[0m\u001b[32m8F|A.3\u001b[0m\u001b[32m{\u001b[0m\u001b[32m\\rNgwdgEI7*cY\"ii-Dk8u4ZaG\u001b[0m\u001b[32m(\u001b[0m\u001b[32mC/pD\u001b[0m\n",
       "\u001b[32m}\u001b[0m\u001b[32mX!|Cp&hu*/S5\u001b[0m\u001b[32m}\u001b[0m\u001b[32m\\\\l@U&:=?1_\u001b[0m\u001b[32m(\u001b[0m\u001b[32mHX\u001b[0m\u001b[32m(\u001b[0m\u001b[32mum_.x9X+J.i81snKUZnMt_Lb4hsg|@_$wp+D3a,~?0vw\\'JW4O#xrllcY\u001b[0m\u001b[32m}\u001b[0m\u001b[32mWlRA?lzEhsoR3kE,d\\'\"X~N`4;hT\u001b[0m\n",
       "\u001b[32m0*\\x0bGaXM\u001b[0m\u001b[32m{\u001b[0m\u001b[32m8\u001b[0m\u001b[32m=\u001b[0m\u001b[32mN\u001b[0m\u001b[32m+d\u001b[0m\u001b[32m)\u001b[0m\u001b[32m[\u001b[0m\u001b[32m#65\"d\u001b[0m\u001b[32m]\u001b[0m\u001b[32m+.9Bg;X_JU\u001b[0m\u001b[32m[\u001b[0m\u001b[32mG/1JHA@@|#*Z\u001b[0m\u001b[32m)\u001b[0m\u001b[32m3J38f\u001b[0m\u001b[32m)\u001b[0m\u001b[32mDmcE:+/\\x0cHL`Eq*5c#G\u001b[0m\u001b[32m}\u001b[0m\u001b[32mf`EXDMPd-Mh5%5_:J\u001b[0m\u001b[32m)\u001b[0m\u001b[32mj+;n\u001b[0m\u001b[32m(\u001b[0m\u001b[32mql`eTyoz-CR^c<Re\u001b[0m\n",
       "\u001b[32mI!l0,EclkG9&jxkUQM\\x0cITy\\\\\u001b[0m\u001b[32m{\u001b[0m\u001b[32m:%WKAo-\u001b[0m\u001b[32m[\u001b[0m\u001b[32mZ3MAA?TVAPMeS#D2W@W?*olx,IuKyo3zpPc?aQ;-zu\u001b[0m\u001b[32m]\u001b[0m\u001b[32mS6AlIiV0jf\u001b[0m\u001b[32m)\u001b[0m\u001b[32mG\u001b[0m\u001b[32m[\u001b[0m\u001b[32mM2sl\u001b[0m\u001b[32m)\u001b[0m\u001b[32m9?yv<I@.j\u001b[0m\u001b[32m[\u001b[0m\u001b[32m42B9vaec\u001b[0m\n",
       "\u001b[32m^ubuj\u001b[0m\u001b[32m]\u001b[0m\u001b[32mM?\\rGhh;ep2bg\\\\|#DUYh\u001b[0m\u001b[32m)\u001b[0m\u001b[32m2#I7$x^\u001b[0m\u001b[32m]\u001b[0m\u001b[32m:\u001b[0m\u001b[32m[\u001b[0m\u001b[32mK>A-FlCii\"fp~5u`?D$Z\u001b[0m\u001b[32m(\u001b[0m\u001b[32ma@r9iY<Baiv$`\u001b[0m\u001b[32m[\u001b[0m\u001b[32mrm0vk\\\\fejLZd\u001b[0m\u001b[32m{\u001b[0m\u001b[32mV&8`Y-\"VJ16E~*b-&W5mq1mXafz6\u001b[0m\n",
       "\u001b[32m4vvjYQ#6%R_x?5Jok*~-D\\\\JK9ccn\\'dB\"^;\u001b[0m\u001b[32m(\u001b[0m\u001b[32m|\u001b[0m\u001b[32m[\u001b[0m\u001b[32mC:UvhG\u001b[0m\u001b[32m{\u001b[0m\u001b[32mR?\u001b[0m\u001b[32m]\u001b[0m\u001b[32mb<gCTPYlVu2\\\\?B&\u001b[0m\u001b[32mmTY\u001b[0m\u001b[32m=.0ER\u001b[0m\u001b[32m(\u001b[0m\u001b[32mTaBY\u001b[0m\u001b[32m{\u001b[0m\u001b[32mt:\u001b[0m\u001b[32m]\u001b[0m\u001b[32mW#L0l~kXJm\"\u001b[0m\u001b[32me\u001b[0m\u001b[32m=>\u001b[0m\u001b[32meg\u001b[0m\u001b[32m=\u001b[0m\u001b[32mH\u001b[0m\u001b[32m!_z`8\u001b[0m\u001b[32m{\u001b[0m\u001b[32mWcb7Xg+9t\u001b[0m\n",
       "\u001b[32mv@</J\\\\R6\\\\B@N%gr3^~x%9Ee%&\\\\JU<wEsUm`E2\"=Hi1?kLnsmgU^N^=5w415S@=4_;\u001b[0m\u001b[32m]\u001b[0m\u001b[32mCmul\\rVs`^fZo$<mDX^I\u001b[0m\u001b[32m}\u001b[0m\u001b[32mN,NK;\u001b[0m\u001b[32m}\u001b[0m\u001b[32m^gvMe\\'_joN\\'3g@:^R\u001b[0m\n",
       "\u001b[32mkkJY^LU*3~=FjS;6.UCC|\"UQ\\rUolzK;pWH~6>8qv7?M7,.>e\u001b[0m\u001b[32m}\u001b[0m\u001b[32mKfvqmKK9\\'ZdhB;*3\u001b[0m\u001b[32m)\u001b[0m\u001b[32m<0,R+Jlt3.\u001b[0m\u001b[32mgo3\u001b[0m\u001b[32m=\u001b[0m\u001b[32mUK\u001b[0m\u001b[32m\\'yj\\'\u001b[0m\u001b[32mZ\u001b[0m\u001b[32m==\u001b[0m\u001b[32m[\u001b[0m\u001b[32mdOwSe\u001b[0m\u001b[32m]\u001b[0m\u001b[32ms\u001b[0m\u001b[32m(\u001b[0m\u001b[32mshfX\u001b[0m\u001b[32m(\u001b[0m\u001b[32m{\u001b[0m\u001b[32m4~4efq~\u001b[0m\n",
       "\u001b[32m5j+;_R\u001b[0m\u001b[32m(\u001b[0m\u001b[32mt,H-q,-\\x0bN_/*MiPKOlE\u001b[0m\u001b[32m)\u001b[0m\u001b[32mab0wg\\rAYAJ<VC*Ya8Dt02VaI\\\\X0<:4PGmsVVDj5%aHQN:\\\\k>c7JY^l3\u001b[0m\u001b[32m{\u001b[0m\u001b[32m+9AA\u001b[0m\u001b[32m]\u001b[0m\u001b[32m~J-\u001b[0m\u001b[32m(\u001b[0m\u001b[32mi6\u001b[0m\u001b[32m[\u001b[0m\u001b[32m>/am\u001b[0m\u001b[32m{\u001b[0m\u001b[32mT\u001b[0m\u001b[32m)\u001b[0m\u001b[32m*=:9TZ\u001b[0m\u001b[32m)\u001b[0m\n",
       "\u001b[32mhMyg\u001b[0m\u001b[32m(\u001b[0m\u001b[32mW4B61Y5\\\\\\\\R_lRT&$C|19TY#\u001b[0m\u001b[32m{\u001b[0m\u001b[32mF!8^\\\\N%b\u001b[0m\u001b[32m)\u001b[0m\u001b[32m\\'J?EQoH6<yF7HEcRmfSNz!9*k0!$ARAX^<zb8?uvt,2\u001b[0m\u001b[32m[\u001b[0m\u001b[32mDyT|w:vx\u001b[0m\u001b[32m}\u001b[0m\u001b[32mMF\\'%mKi\\'&Mg^oJKBu\u001b[0m\u001b[32m}\u001b[0m\n",
       "\u001b[32m(\u001b[0m\u001b[32mv#6vh\\x0cLF<BZ;2:\\\u001b[0m\u001b[32mrGIzjF\u001b[0m\u001b[32m=@qr~Y#ls5\"d,$/C6vhIx77+UZ-\u001b[0m\u001b[32m}\u001b[0m\u001b[32mB4w.<xMDZiW;\"1f1R~5fI:DzUEJ.INO4u;f$pol\u001b[0m\u001b[32m{\u001b[0m\u001b[32m}\u001b[0m\u001b[32mI\\\u001b[0m\u001b[32mnQ\u001b[0m\u001b[32m=\u001b[0m\u001b[32mX\u001b[0m\u001b[32m\\\\\"e~w.e9+8xN\"\\\u001b[0m\n",
       "\u001b[32m'Tc0Nor:9mfG<2\u001b[0m\u001b[32m]\u001b[0m\u001b[32mKrtG5Z$b?>@\u001b[0m\u001b[32m)\u001b[0m\u001b[32m@^zeO\">\u001b[0m\u001b[32m[\u001b[0m\u001b[32mA@F6/DA/1:\u001b[0m\u001b[32m)\u001b[0m\u001b[32m}\u001b[0m\u001b[32m]\u001b[0m\u001b[32mz#K7%|GN/|s;0~rPemA\u001b[0m\u001b[32m(\u001b[0m\u001b[32m{\u001b[0m\u001b[32m6S\"y\u001b[0m\u001b[32m(\u001b[0m\u001b[32m{\u001b[0m\u001b[32m_Hs@9ON>r0cm\\x0cHeL\\'\\'l~>W?DW\".\u001b[0m\u001b[32mkEdz\u001b[0m\u001b[32m=\u001b[0m\u001b[32mYn1\u001b[0m\n",
       "\u001b[32mE5m\u001b[0m\u001b[32m=IelWe2k-SP\"|=;\u001b[0m\u001b[32m(\u001b[0m\u001b[32m|\u001b[0m\u001b[32m[\u001b[0m\u001b[32m=WG2qI\\nYdihR~Dr45%Y@\u001b[0m\u001b[32mK\u001b[0m\u001b[32m=\u001b[0m\u001b[32m[\u001b[0m\u001b[32mk%g%2$c^xPUbxW*lzVHW@G_ymLo1i\\x0cLAKPz@Y;cc\"iSBiCHM0S\u001b[0m\u001b[32m)\u001b[0m\u001b[32m/:>M\u001b[0m\u001b[32m{\u001b[0m\u001b[32m%?zeP5_8*\u001b[0m\u001b[32mN_\u001b[0m\n",
       "\u001b[32mijWjS2Pw\u001b[0m\u001b[32m=$9\";xE2D;>4-*%XP!3\\'Ggc\u001b[0m\u001b[32m(\u001b[0m\u001b[32mERo\\'b*Jt\u001b[0m\u001b[32m}\u001b[0m\u001b[32m:uvSDL\u001b[0m\u001b[32m(\u001b[0m\u001b[32m/ \u001b[0m\n",
       "\u001b[32mO5s+oyIEoBA%WYA^DAc30aj9fsc\\\\gh\\\\B\u001b[0m\u001b[32m[\u001b[0m\u001b[32mxKOrT&%|pg\\x0bOW?wUJOngrPag,&7t4%\\'#\u001b[0m\u001b[32m}\u001b[0m\u001b[32m?1JA+z\u001b[0m\u001b[32m]\u001b[0m\u001b[32mFIu\\'\u001b[0m\u001b[32m(\u001b[0m\u001b[32mJDC\u001b[0m\u001b[32m{\u001b[0m\u001b[32mkW4\u001b[0m\u001b[32m)\u001b[0m\u001b[32mGSsq\u001b[0m\u001b[32m[\u001b[0m\u001b[32myzZ?6\\'=\u001b[0m\u001b[32m)\u001b[0m\u001b[32m5Z\u001b[0m\u001b[32m]\u001b[0m\u001b[32mE\u001b[0m\u001b[32m=\u001b[0m\u001b[32m4\u001b[0m\u001b[32m=\u001b[0m\u001b[32m_\u001b[0m\n",
       "\u001b[32mW0eIeebu\u001b[0m\u001b[32m=\u001b[0m\u001b[32m8\"\u001b[0m\u001b[32m~uh<kfQab7%a&y$rRb:WLHx48U\u001b[0m\u001b[32m}\u001b[0m\u001b[32mdwCp%\u001b[0m\u001b[32m]\u001b[0m\u001b[32mMAvGV\u001b[0m\u001b[32m]\u001b[0m\u001b[32m>Q\\\\LA%Hh~*T4~\"t!EZ#pNn?:J#s4VVI\u001b[0m\u001b[32m)\u001b[0m\u001b[32mfE \u001b[0m\n",
       "\u001b[32mA660O\u001b[0m\u001b[32m)\u001b[0m\u001b[32mGO$B6*,J\"9+Dd-Yx\\\\P2cTIVe,t%qvs*@h\u001b[0m\u001b[32m]\u001b[0m\u001b[32mwMSYG19,Ww6E4aR44Sat1PF$\u001b[0m\u001b[32m{\u001b[0m\u001b[32mOG@%,.33A-p9G\u001b[0m\u001b[32m[\u001b[0m\u001b[32mQ#sRWZf?7Z0!_v\u001b[0m\u001b[32m]\u001b[0m\u001b[32mv$+qzkp^\u001b[0m\u001b[32mrD\u001b[0m\u001b[32m=.:E#yUg\u001b[0m\u001b[32m)\u001b[0m\u001b[32m]\u001b[0m\n",
       "\u001b[32myXw+/bJp@9<kM?+zYV\u001b[0m\u001b[32m]\u001b[0m\u001b[32m:1qa|2zeDL*I^zFa\"=KAZzv?.LssH_\u001b[0m\u001b[32m(\u001b[0m\u001b[32m,4\\'\u001b[0m\u001b[32m[\u001b[0m\u001b[32m8g1O8tL&1ys|>l\\'z\u001b[0m\u001b[32m]\u001b[0m\u001b[32mGG%hPk!J!\u001b[0m\u001b[32m]\u001b[0m\u001b[32m$*Ez*kR\u001b[0m\u001b[32m]\u001b[0m\u001b[32m%n;H\\\\\\'c&~q<lDN73*|gW2X\u001b[0m\n",
       "\u001b[32mB:@joK\u001b[0m\u001b[32m]\u001b[0m\u001b[32m}\u001b[0m\u001b[32mj-_GDuE73e8%\u001b[0m\u001b[32mG\u001b[0m\u001b[32m=@A,pj&wTMk!I69S3,\u001b[0m\u001b[32m>\u001b[0m\u001b[32m,#?^p;:.ADr\u001b[0m\u001b[32m)\u001b[0m\u001b[32m$vv\"Ddb9wV_p--,\u001b[0m\u001b[32m(\u001b[0m\u001b[32m7/E$\u001b[0m\u001b[32m(\u001b[0m\u001b[32m)\u001b[0m\u001b[32mO`jZ\\rWah00;;/9|bou3$*4Uo/y\u001b[0m\u001b[32m)\u001b[0m\u001b[32mTc8\u001b[0m\u001b[32m]\u001b[0m\u001b[32m]\u001b[0m\u001b[32mSK@,$L\\'\u001b[0m\n",
       "\u001b[32mOdL!$Q?!~=j\\'kB\\'L42@nj\u001b[0m\u001b[32m]\u001b[0m\u001b[32m$V:9XY^\u001b[0m\u001b[32m[\u001b[0m\u001b[32muQwh*\u001b[0m\u001b[32mF\u001b[0m\u001b[32m=%z&L,&:@1I'\u001b[0m,\n",
       "                                \u001b[33merror_spans\u001b[0m=\u001b[3;35mNone\u001b[0m,\n",
       "                                \u001b[33mmetadata\u001b[0m=\u001b[3;35mNone\u001b[0m,\n",
       "                                \u001b[33mvalidated_chunk\u001b[0m=\u001b[3;35mNone\u001b[0m\n",
       "                            \u001b[1m)\u001b[0m,\n",
       "                            \u001b[33mstart_time\u001b[0m=\u001b[1;35mdatetime\u001b[0m\u001b[1;35m.datetime\u001b[0m\u001b[1m(\u001b[0m\u001b[1;36m2024\u001b[0m, \u001b[1;36m6\u001b[0m, \u001b[1;36m25\u001b[0m, \u001b[1;36m14\u001b[0m, \u001b[1;36m19\u001b[0m, \u001b[1;36m56\u001b[0m, \u001b[1;36m81461\u001b[0m\u001b[1m)\u001b[0m,\n",
       "                            \u001b[33mend_time\u001b[0m=\u001b[1;35mdatetime\u001b[0m\u001b[1;35m.datetime\u001b[0m\u001b[1m(\u001b[0m\u001b[1;36m2024\u001b[0m, \u001b[1;36m6\u001b[0m, \u001b[1;36m25\u001b[0m, \u001b[1;36m14\u001b[0m, \u001b[1;36m19\u001b[0m, \u001b[1;36m56\u001b[0m, \u001b[1;36m94752\u001b[0m\u001b[1m)\u001b[0m\n",
       "                        \u001b[1m)\u001b[0m\n",
       "                    \u001b[1m]\u001b[0m,\n",
       "                    \u001b[33merror\u001b[0m=\u001b[3;35mNone\u001b[0m,\n",
       "                    \u001b[33mexception\u001b[0m=\u001b[3;35mNone\u001b[0m\n",
       "                \u001b[1m)\u001b[0m\n",
       "            \u001b[1m)\u001b[0m\n",
       "        \u001b[1m]\u001b[0m,\n",
       "        \u001b[33minputs\u001b[0m=\u001b[1;35mCallInputs\u001b[0m\u001b[1m(\u001b[0m\n",
       "            \u001b[33mllm_api\u001b[0m=\u001b[3;35mNone\u001b[0m,\n",
       "            \u001b[33mllm_output\u001b[0m=\u001b[3;35mNone\u001b[0m,\n",
       "            \u001b[33minstructions\u001b[0m=\u001b[3;35mNone\u001b[0m,\n",
       "            \u001b[33mprompt\u001b[0m=\u001b[3;35mNone\u001b[0m,\n",
       "            \u001b[33mmsg_history\u001b[0m=\u001b[3;35mNone\u001b[0m,\n",
       "            \u001b[33mprompt_params\u001b[0m=\u001b[1m{\u001b[0m\u001b[1m}\u001b[0m,\n",
       "            \u001b[33mnum_reasks\u001b[0m=\u001b[1;36m0\u001b[0m,\n",
       "            \u001b[33mmetadata\u001b[0m=\u001b[1m{\u001b[0m\u001b[1m}\u001b[0m,\n",
       "            \u001b[33mfull_schema_reask\u001b[0m=\u001b[3;91mFalse\u001b[0m,\n",
       "            \u001b[33mstream\u001b[0m=\u001b[3;91mFalse\u001b[0m,\n",
       "            \u001b[33margs\u001b[0m=\u001b[1m[\u001b[0m\u001b[1m]\u001b[0m,\n",
       "            \u001b[33mkwargs\u001b[0m=\u001b[1m{\u001b[0m\u001b[32m'api_key'\u001b[0m: \u001b[32m'***********************************************69ck'\u001b[0m\u001b[1m}\u001b[0m\n",
       "        \u001b[1m)\u001b[0m,\n",
       "        \u001b[33mexception\u001b[0m=\u001b[3;35mNone\u001b[0m\n",
       "    \u001b[1m)\u001b[0m\n",
       "\u001b[1m]\u001b[0m\n"
      ]
     },
     "metadata": {},
     "output_type": "display_data"
    }
   ],
   "source": [
    "print(name_case.history)"
   ]
  }
 ],
 "metadata": {
  "kernelspec": {
   "display_name": ".venv",
   "language": "python",
   "name": "python3"
  },
  "language_info": {
   "codemirror_mode": {
    "name": "ipython",
    "version": 3
   },
   "file_extension": ".py",
   "mimetype": "text/x-python",
   "name": "python",
   "nbconvert_exporter": "python",
   "pygments_lexer": "ipython3",
   "version": "3.12.3"
  }
 },
 "nbformat": 4,
 "nbformat_minor": 2
}
