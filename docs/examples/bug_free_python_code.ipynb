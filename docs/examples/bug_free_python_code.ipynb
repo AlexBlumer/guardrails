{
 "cells": [
  {
   "attachments": {},
   "cell_type": "markdown",
   "metadata": {},
   "source": [
    "# Generating Bug Free Leetcode Solutions\n",
    "\n",
    "!!! note\n",
    "    To download this tutorial as a Jupyter notebook, click [here](https://github.com/guardrails-ai/guardrails/blob/main/docs/examples/bug_free_python_code.ipynb).\n",
    "\n",
    "In this example, we want to solve String Maniuplation leetcode problems such that the code is bug free.\n",
    "\n",
    "We make the assumption that:\n",
    "\n",
    "1. We don't need any external libraries that are not already installed in the environment.\n",
    "2. We are able to execute the code in the environment.\n",
    "\n",
    "## Objective\n",
    "\n",
    "We want to generate bug-free code for solving leetcode problems. In this example, we don't account for semantic bugs, only for syntactic bugs.\n",
    "\n",
    "In short, we want to make sure that the code can be executed without any errors.\n",
    "\n",
    "## Step 1: Generating `RAIL` Spec\n",
    "\n",
    "First, we install the validators and packages we need to make sure generated python is valid. Then, we generate a RAIL spec as a pydantic model."
   ]
  },
  {
   "cell_type": "code",
   "execution_count": 1,
   "metadata": {},
   "outputs": [
    {
     "name": "stdout",
     "output_type": "stream",
     "text": [
      "Installing hub:\u001b[35m/\u001b[0m\u001b[35m/reflex/\u001b[0m\u001b[95mvalid_python...\u001b[0m\n",
      "✅Successfully installed reflex/valid_python!\n",
      "\n",
      "\n"
     ]
    }
   ],
   "source": [
    "!guardrails hub install hub://reflex/valid_python --quiet"
   ]
  },
  {
   "cell_type": "code",
   "execution_count": 2,
   "metadata": {},
   "outputs": [
    {
     "name": "stderr",
     "output_type": "stream",
     "text": [
      "/Users/dtam/.pyenv/versions/3.12.1/lib/python3.12/site-packages/sentence_transformers/cross_encoder/CrossEncoder.py:11: TqdmExperimentalWarning: Using `tqdm.autonotebook.tqdm` in notebook mode. Use `tqdm.tqdm` instead to force console mode (e.g. in jupyter console)\n",
      "  from tqdm.autonotebook import tqdm, trange\n"
     ]
    }
   ],
   "source": [
    "from pydantic import BaseModel, Field\n",
    "from guardrails.hub import ValidPython\n",
    "\n",
    "prompt = \"\"\"\n",
    "Given the following high level leetcode problem description, write a short Python code snippet that solves the problem.\n",
    "\n",
    "Problem Description:\n",
    "${leetcode_problem}\n",
    "\n",
    "${gr.complete_xml_suffix}\"\"\"\n",
    "\n",
    "class BugFreePythonCode(BaseModel):\n",
    "    python_code: str = Field(validators=[ValidPython(on_fail=\"reask\")])\n",
    "\n",
    "    class Config:\n",
    "        arbitrary_types_allowed = True"
   ]
  },
  {
   "attachments": {},
   "cell_type": "markdown",
   "metadata": {},
   "source": [
    "## Step 2: Create a `Guard` object with the RAIL Spec\n",
    "\n",
    "We create a `gd.Guard` object that will check, validate and correct the generated code. This object:\n",
    "\n",
    "1. Enforces the quality criteria specified in the RAIL spec (i.e. bug free code).\n",
    "2. Takes corrective action when the quality criteria are not met (i.e. reasking the LLM).\n",
    "3. Compiles the schema and type info from the RAIL spec and adds it to the prompt."
   ]
  },
  {
   "cell_type": "code",
   "execution_count": 3,
   "metadata": {},
   "outputs": [],
   "source": [
    "import guardrails as gd\n",
    "\n",
    "from rich import print"
   ]
  },
  {
   "cell_type": "markdown",
   "metadata": {},
   "source": [
    "Or from the pydantic model:"
   ]
  },
  {
   "cell_type": "code",
   "execution_count": 4,
   "metadata": {},
   "outputs": [],
   "source": [
    "guard = gd.Guard.from_pydantic(output_class=BugFreePythonCode)"
   ]
  },
  {
   "attachments": {},
   "cell_type": "markdown",
   "metadata": {},
   "source": [
    "## Step 3: Wrap the LLM API call with `Guard`"
   ]
  },
  {
   "cell_type": "code",
   "execution_count": 5,
   "metadata": {},
   "outputs": [
    {
     "data": {
      "text/html": [
       "<pre style=\"white-space:pre;overflow-x:auto;line-height:normal;font-family:Menlo,'DejaVu Sans Mono',consolas,'Courier New',monospace\"><span style=\"color: #800080; text-decoration-color: #800080; font-weight: bold\">ValidationOutcome</span><span style=\"font-weight: bold\">(</span>\n",
       "    <span style=\"color: #808000; text-decoration-color: #808000\">call_id</span>=<span style=\"color: #008000; text-decoration-color: #008000\">'11704253280'</span>,\n",
       "    <span style=\"color: #808000; text-decoration-color: #808000\">raw_llm_output</span>=<span style=\"color: #008000; text-decoration-color: #008000\">'```json\\n{\\n  \"python_code\": \"def longest_palindrome(s):\\\\n    n = len(s)\\\\n    if n == 0:\\\\n  </span>\n",
       "<span style=\"color: #008000; text-decoration-color: #008000\">return \\'\\'\\\\n    dp = [[False] * n for _ in range(n)]\\\\n    start, max_length = 0, 1\\\\n    for i in range(n):\\\\n  </span>\n",
       "<span style=\"color: #008000; text-decoration-color: #008000\">dp[i][i] = True\\\\n    for i in range(n-1):\\\\n        if s[i] == s[i+1]:\\\\n            dp[i][i+1] = True\\\\n         </span>\n",
       "<span style=\"color: #008000; text-decoration-color: #008000\">start = i\\\\n            max_length = 2\\\\n    for length in range(3, n+1):\\\\n        for i in range(n-length+1):\\\\n </span>\n",
       "<span style=\"color: #008000; text-decoration-color: #008000\">j = i + length - 1\\\\n            if s[i] == s[j] and dp[i+1][j-1]:\\\\n                dp[i][j] = True\\\\n            </span>\n",
       "<span style=\"color: #008000; text-decoration-color: #008000\">start = i\\\\n                max_length = length\\\\n    return s[start:start+max_length]\"\\n}\\n```'</span>,\n",
       "    <span style=\"color: #808000; text-decoration-color: #808000\">validated_output</span>=<span style=\"font-weight: bold\">{</span>\n",
       "        <span style=\"color: #008000; text-decoration-color: #008000\">'python_code'</span>: <span style=\"color: #008000; text-decoration-color: #008000\">\"def longest_palindrome(s):\\n    n = len(s)\\n    if n == 0:\\n        return ''\\n    dp = </span>\n",
       "<span style=\"color: #008000; text-decoration-color: #008000\">[[False] * n for _ in range(n)]\\n    start, max_length = 0, 1\\n    for i in range(n):\\n        dp[i][i] = True\\n   </span>\n",
       "<span style=\"color: #008000; text-decoration-color: #008000\">for i in range(n-1):\\n        if s[i] == s[i+1]:\\n            dp[i][i+1] = True\\n            start = i\\n           </span>\n",
       "<span style=\"color: #008000; text-decoration-color: #008000\">max_length = 2\\n    for length in range(3, n+1):\\n        for i in range(n-length+1):\\n            j = i + length -</span>\n",
       "<span style=\"color: #008000; text-decoration-color: #008000\">1\\n            if s[i] == s[j] and dp[i+1][j-1]:\\n                dp[i][j] = True\\n                start = i\\n     </span>\n",
       "<span style=\"color: #008000; text-decoration-color: #008000\">max_length = length\\n    return s[start:start+max_length]\"</span>\n",
       "    <span style=\"font-weight: bold\">}</span>,\n",
       "    <span style=\"color: #808000; text-decoration-color: #808000\">reask</span>=<span style=\"color: #800080; text-decoration-color: #800080; font-style: italic\">None</span>,\n",
       "    <span style=\"color: #808000; text-decoration-color: #808000\">validation_passed</span>=<span style=\"color: #00ff00; text-decoration-color: #00ff00; font-style: italic\">True</span>,\n",
       "    <span style=\"color: #808000; text-decoration-color: #808000\">error</span>=<span style=\"color: #800080; text-decoration-color: #800080; font-style: italic\">None</span>\n",
       "<span style=\"font-weight: bold\">)</span>\n",
       "</pre>\n"
      ],
      "text/plain": [
       "\u001b[1;35mValidationOutcome\u001b[0m\u001b[1m(\u001b[0m\n",
       "    \u001b[33mcall_id\u001b[0m=\u001b[32m'11704253280'\u001b[0m,\n",
       "    \u001b[33mraw_llm_output\u001b[0m=\u001b[32m'```json\\n\u001b[0m\u001b[32m{\u001b[0m\u001b[32m\\n  \"python_code\": \"def longest_palindrome\u001b[0m\u001b[32m(\u001b[0m\u001b[32ms\u001b[0m\u001b[32m)\u001b[0m\u001b[32m:\\\\n    n = len\u001b[0m\u001b[32m(\u001b[0m\u001b[32ms\u001b[0m\u001b[32m)\u001b[0m\u001b[32m\\\\n    if n == 0:\\\\n  \u001b[0m\n",
       "\u001b[32mreturn \\'\\'\\\\n    dp = \u001b[0m\u001b[32m[\u001b[0m\u001b[32m[\u001b[0m\u001b[32mFalse\u001b[0m\u001b[32m]\u001b[0m\u001b[32m * n for _ in range\u001b[0m\u001b[32m(\u001b[0m\u001b[32mn\u001b[0m\u001b[32m)\u001b[0m\u001b[32m]\u001b[0m\u001b[32m\\\\n    start, max_length = 0, 1\\\\n    for i in range\u001b[0m\u001b[32m(\u001b[0m\u001b[32mn\u001b[0m\u001b[32m)\u001b[0m\u001b[32m:\\\\n  \u001b[0m\n",
       "\u001b[32mdp\u001b[0m\u001b[32m[\u001b[0m\u001b[32mi\u001b[0m\u001b[32m]\u001b[0m\u001b[32m[\u001b[0m\u001b[32mi\u001b[0m\u001b[32m]\u001b[0m\u001b[32m = True\\\\n    for i in range\u001b[0m\u001b[32m(\u001b[0m\u001b[32mn-1\u001b[0m\u001b[32m)\u001b[0m\u001b[32m:\\\\n        if s\u001b[0m\u001b[32m[\u001b[0m\u001b[32mi\u001b[0m\u001b[32m]\u001b[0m\u001b[32m == s\u001b[0m\u001b[32m[\u001b[0m\u001b[32mi+1\u001b[0m\u001b[32m]\u001b[0m\u001b[32m:\\\\n            dp\u001b[0m\u001b[32m[\u001b[0m\u001b[32mi\u001b[0m\u001b[32m]\u001b[0m\u001b[32m[\u001b[0m\u001b[32mi+1\u001b[0m\u001b[32m]\u001b[0m\u001b[32m = True\\\\n         \u001b[0m\n",
       "\u001b[32mstart = i\\\\n            max_length = 2\\\\n    for length in range\u001b[0m\u001b[32m(\u001b[0m\u001b[32m3, n+1\u001b[0m\u001b[32m)\u001b[0m\u001b[32m:\\\\n        for i in range\u001b[0m\u001b[32m(\u001b[0m\u001b[32mn-length+1\u001b[0m\u001b[32m)\u001b[0m\u001b[32m:\\\\n \u001b[0m\n",
       "\u001b[32mj = i + length - 1\\\\n            if s\u001b[0m\u001b[32m[\u001b[0m\u001b[32mi\u001b[0m\u001b[32m]\u001b[0m\u001b[32m == s\u001b[0m\u001b[32m[\u001b[0m\u001b[32mj\u001b[0m\u001b[32m]\u001b[0m\u001b[32m and dp\u001b[0m\u001b[32m[\u001b[0m\u001b[32mi+1\u001b[0m\u001b[32m]\u001b[0m\u001b[32m[\u001b[0m\u001b[32mj-1\u001b[0m\u001b[32m]\u001b[0m\u001b[32m:\\\\n                dp\u001b[0m\u001b[32m[\u001b[0m\u001b[32mi\u001b[0m\u001b[32m]\u001b[0m\u001b[32m[\u001b[0m\u001b[32mj\u001b[0m\u001b[32m]\u001b[0m\u001b[32m = True\\\\n            \u001b[0m\n",
       "\u001b[32mstart = i\\\\n                max_length = length\\\\n    return s\u001b[0m\u001b[32m[\u001b[0m\u001b[32mstart:start+max_length\u001b[0m\u001b[32m]\u001b[0m\u001b[32m\"\\n\u001b[0m\u001b[32m}\u001b[0m\u001b[32m\\n```'\u001b[0m,\n",
       "    \u001b[33mvalidated_output\u001b[0m=\u001b[1m{\u001b[0m\n",
       "        \u001b[32m'python_code'\u001b[0m: \u001b[32m\"def longest_palindrome\u001b[0m\u001b[32m(\u001b[0m\u001b[32ms\u001b[0m\u001b[32m)\u001b[0m\u001b[32m:\\n    n = len\u001b[0m\u001b[32m(\u001b[0m\u001b[32ms\u001b[0m\u001b[32m)\u001b[0m\u001b[32m\\n    if n == 0:\\n        return ''\\n    dp = \u001b[0m\n",
       "\u001b[32m[\u001b[0m\u001b[32m[\u001b[0m\u001b[32mFalse\u001b[0m\u001b[32m]\u001b[0m\u001b[32m * n for _ in range\u001b[0m\u001b[32m(\u001b[0m\u001b[32mn\u001b[0m\u001b[32m)\u001b[0m\u001b[32m]\u001b[0m\u001b[32m\\n    start, max_length = 0, 1\\n    for i in range\u001b[0m\u001b[32m(\u001b[0m\u001b[32mn\u001b[0m\u001b[32m)\u001b[0m\u001b[32m:\\n        dp\u001b[0m\u001b[32m[\u001b[0m\u001b[32mi\u001b[0m\u001b[32m]\u001b[0m\u001b[32m[\u001b[0m\u001b[32mi\u001b[0m\u001b[32m]\u001b[0m\u001b[32m = True\\n   \u001b[0m\n",
       "\u001b[32mfor i in range\u001b[0m\u001b[32m(\u001b[0m\u001b[32mn-1\u001b[0m\u001b[32m)\u001b[0m\u001b[32m:\\n        if s\u001b[0m\u001b[32m[\u001b[0m\u001b[32mi\u001b[0m\u001b[32m]\u001b[0m\u001b[32m == s\u001b[0m\u001b[32m[\u001b[0m\u001b[32mi+1\u001b[0m\u001b[32m]\u001b[0m\u001b[32m:\\n            dp\u001b[0m\u001b[32m[\u001b[0m\u001b[32mi\u001b[0m\u001b[32m]\u001b[0m\u001b[32m[\u001b[0m\u001b[32mi+1\u001b[0m\u001b[32m]\u001b[0m\u001b[32m = True\\n            start = i\\n           \u001b[0m\n",
       "\u001b[32mmax_length = 2\\n    for length in range\u001b[0m\u001b[32m(\u001b[0m\u001b[32m3, n+1\u001b[0m\u001b[32m)\u001b[0m\u001b[32m:\\n        for i in range\u001b[0m\u001b[32m(\u001b[0m\u001b[32mn-length+1\u001b[0m\u001b[32m)\u001b[0m\u001b[32m:\\n            j = i + length -\u001b[0m\n",
       "\u001b[32m1\\n            if s\u001b[0m\u001b[32m[\u001b[0m\u001b[32mi\u001b[0m\u001b[32m]\u001b[0m\u001b[32m == s\u001b[0m\u001b[32m[\u001b[0m\u001b[32mj\u001b[0m\u001b[32m]\u001b[0m\u001b[32m and dp\u001b[0m\u001b[32m[\u001b[0m\u001b[32mi+1\u001b[0m\u001b[32m]\u001b[0m\u001b[32m[\u001b[0m\u001b[32mj-1\u001b[0m\u001b[32m]\u001b[0m\u001b[32m:\\n                dp\u001b[0m\u001b[32m[\u001b[0m\u001b[32mi\u001b[0m\u001b[32m]\u001b[0m\u001b[32m[\u001b[0m\u001b[32mj\u001b[0m\u001b[32m]\u001b[0m\u001b[32m = True\\n                start = i\\n     \u001b[0m\n",
       "\u001b[32mmax_length = length\\n    return s\u001b[0m\u001b[32m[\u001b[0m\u001b[32mstart:start+max_length\u001b[0m\u001b[32m]\u001b[0m\u001b[32m\"\u001b[0m\n",
       "    \u001b[1m}\u001b[0m,\n",
       "    \u001b[33mreask\u001b[0m=\u001b[3;35mNone\u001b[0m,\n",
       "    \u001b[33mvalidation_passed\u001b[0m=\u001b[3;92mTrue\u001b[0m,\n",
       "    \u001b[33merror\u001b[0m=\u001b[3;35mNone\u001b[0m\n",
       "\u001b[1m)\u001b[0m\n"
      ]
     },
     "metadata": {},
     "output_type": "display_data"
    }
   ],
   "source": [
    "import os\n",
    "os.environ[\"OPENAI_API_KEY\"] = \"YOUR_OPENAI_API_KEY\"\n",
    "\n",
    "leetcode_problem = \"\"\"\n",
    "Given a string s, find the longest palindromic substring in s. You may assume that the maximum length of s is 1000.\n",
    "\"\"\"\n",
    "\n",
    "response = guard(\n",
    "    model=\"gpt-4o\",\n",
    "    messages=[{\"role\": \"user\", \"content\": prompt}],\n",
    "    prompt_params={\"leetcode_problem\": leetcode_problem},\n",
    "    max_tokens=2048,\n",
    "    temperature=0,\n",
    ")\n",
    "print(response)"
   ]
  },
  {
   "attachments": {},
   "cell_type": "markdown",
   "metadata": {},
   "source": [
    "The `Guard` object compiles the output schema and adds it to the prompt. We can see the final prompt below:"
   ]
  },
  {
   "cell_type": "code",
   "execution_count": 25,
   "metadata": {},
   "outputs": [
    {
     "data": {
      "text/html": [
       "<pre style=\"white-space:pre;overflow-x:auto;line-height:normal;font-family:Menlo,'DejaVu Sans Mono',consolas,'Courier New',monospace\">\n",
       "Given the following high level leetcode problem description, write a short Python code snippet that solves the \n",
       "problem.\n",
       "\n",
       "Problem Description:\n",
       "\n",
       "Given a string s, find the longest palindromic substring in s. You may assume that the maximum length of s is <span style=\"color: #008080; text-decoration-color: #008080; font-weight: bold\">1000</span>.\n",
       "\n",
       "\n",
       "\n",
       "Given below is XML that describes the information to extract from this document and the tags to extract it into.\n",
       "\n",
       "<span style=\"font-weight: bold\">&lt;</span><span style=\"color: #ff00ff; text-decoration-color: #ff00ff; font-weight: bold\">output</span><span style=\"color: #000000; text-decoration-color: #000000\">&gt;</span>\n",
       "<span style=\"color: #000000; text-decoration-color: #000000\">  &lt;string </span><span style=\"color: #808000; text-decoration-color: #808000\">format</span><span style=\"color: #000000; text-decoration-color: #000000\">=</span><span style=\"color: #008000; text-decoration-color: #008000\">\"reflex/valid_python\"</span><span style=\"color: #000000; text-decoration-color: #000000\"> </span><span style=\"color: #808000; text-decoration-color: #808000\">name</span><span style=\"color: #000000; text-decoration-color: #000000\">=</span><span style=\"color: #008000; text-decoration-color: #008000\">\"python_code\"</span><span style=\"color: #000000; text-decoration-color: #000000\"> </span><span style=\"color: #808000; text-decoration-color: #808000\">required</span><span style=\"color: #000000; text-decoration-color: #000000\">=</span><span style=\"color: #008000; text-decoration-color: #008000\">\"true\"</span><span style=\"color: #000000; text-decoration-color: #000000\">&gt;&lt;</span><span style=\"color: #800080; text-decoration-color: #800080\">/</span><span style=\"color: #ff00ff; text-decoration-color: #ff00ff\">string</span><span style=\"color: #000000; text-decoration-color: #000000\">&gt;</span>\n",
       "<span style=\"color: #000000; text-decoration-color: #000000\">&lt;</span><span style=\"color: #800080; text-decoration-color: #800080\">/</span><span style=\"color: #ff00ff; text-decoration-color: #ff00ff\">output</span><span style=\"color: #000000; text-decoration-color: #000000\">&gt;</span>\n",
       "\n",
       "<span style=\"color: #000000; text-decoration-color: #000000\">ONLY return a valid JSON object </span><span style=\"color: #000000; text-decoration-color: #000000; font-weight: bold\">(</span><span style=\"color: #000000; text-decoration-color: #000000\">no other text is necessary</span><span style=\"color: #000000; text-decoration-color: #000000; font-weight: bold\">)</span><span style=\"color: #000000; text-decoration-color: #000000\">, where the key of the field in JSON is the `name` </span>\n",
       "<span style=\"color: #000000; text-decoration-color: #000000\">attribute of the corresponding XML, and the value is of the type specified by the corresponding XML's tag. The JSON</span>\n",
       "<span style=\"color: #000000; text-decoration-color: #000000\">MUST conform to the XML format, including any types and format requests e.g. requests for lists, objects and </span>\n",
       "<span style=\"color: #000000; text-decoration-color: #000000\">specific types. Be correct and concise. If you are unsure anywhere, enter `null`.</span>\n",
       "\n",
       "<span style=\"color: #000000; text-decoration-color: #000000\">Here are examples of simple </span><span style=\"color: #000000; text-decoration-color: #000000; font-weight: bold\">(</span><span style=\"color: #000000; text-decoration-color: #000000\">XML, JSON</span><span style=\"color: #000000; text-decoration-color: #000000; font-weight: bold\">)</span><span style=\"color: #000000; text-decoration-color: #000000\"> pairs that show the expected behavior:</span>\n",
       "<span style=\"color: #000000; text-decoration-color: #000000\">- `&lt;string </span><span style=\"color: #808000; text-decoration-color: #808000\">name</span><span style=\"color: #000000; text-decoration-color: #000000\">=</span><span style=\"color: #008000; text-decoration-color: #008000\">'foo'</span><span style=\"color: #000000; text-decoration-color: #000000\"> </span><span style=\"color: #808000; text-decoration-color: #808000\">format</span><span style=\"color: #000000; text-decoration-color: #000000\">=</span><span style=\"color: #008000; text-decoration-color: #008000\">'two-words lower-case'</span><span style=\"color: #000000; text-decoration-color: #000000\"> </span><span style=\"color: #800080; text-decoration-color: #800080\">/</span><span style=\"color: #000000; text-decoration-color: #000000\">&gt;` =&gt; `</span><span style=\"color: #000000; text-decoration-color: #000000; font-weight: bold\">{</span><span style=\"color: #008000; text-decoration-color: #008000\">'foo'</span><span style=\"color: #000000; text-decoration-color: #000000\">: </span><span style=\"color: #008000; text-decoration-color: #008000\">'example one'</span><span style=\"color: #000000; text-decoration-color: #000000; font-weight: bold\">}</span><span style=\"color: #000000; text-decoration-color: #000000\">`</span>\n",
       "<span style=\"color: #000000; text-decoration-color: #000000\">- `&lt;list </span><span style=\"color: #808000; text-decoration-color: #808000\">name</span><span style=\"color: #000000; text-decoration-color: #000000\">=</span><span style=\"color: #008000; text-decoration-color: #008000\">'bar'</span><span style=\"color: #000000; text-decoration-color: #000000\">&gt;&lt;string </span><span style=\"color: #808000; text-decoration-color: #808000\">format</span><span style=\"color: #000000; text-decoration-color: #000000\">=</span><span style=\"color: #008000; text-decoration-color: #008000\">'upper-case'</span><span style=\"color: #000000; text-decoration-color: #000000\"> </span><span style=\"color: #800080; text-decoration-color: #800080\">/</span><span style=\"color: #000000; text-decoration-color: #000000\">&gt;&lt;</span><span style=\"color: #800080; text-decoration-color: #800080\">/</span><span style=\"color: #ff00ff; text-decoration-color: #ff00ff\">list</span><span style=\"color: #000000; text-decoration-color: #000000\">&gt;` =&gt; `</span><span style=\"color: #000000; text-decoration-color: #000000; font-weight: bold\">{</span><span style=\"color: #008000; text-decoration-color: #008000\">\"bar\"</span><span style=\"color: #000000; text-decoration-color: #000000\">: </span><span style=\"color: #000000; text-decoration-color: #000000; font-weight: bold\">[</span><span style=\"color: #008000; text-decoration-color: #008000\">'STRING ONE'</span><span style=\"color: #000000; text-decoration-color: #000000\">, </span><span style=\"color: #008000; text-decoration-color: #008000\">'STRING TWO'</span><span style=\"color: #000000; text-decoration-color: #000000\">, etc.</span><span style=\"color: #000000; text-decoration-color: #000000; font-weight: bold\">]}</span><span style=\"color: #000000; text-decoration-color: #000000\">`</span>\n",
       "<span style=\"color: #000000; text-decoration-color: #000000\">- `&lt;object </span><span style=\"color: #808000; text-decoration-color: #808000\">name</span><span style=\"color: #000000; text-decoration-color: #000000\">=</span><span style=\"color: #008000; text-decoration-color: #008000\">'baz'</span><span style=\"color: #000000; text-decoration-color: #000000\">&gt;&lt;string </span><span style=\"color: #808000; text-decoration-color: #808000\">name</span><span style=\"color: #000000; text-decoration-color: #000000\">=</span><span style=\"color: #008000; text-decoration-color: #008000\">\"foo\"</span><span style=\"color: #000000; text-decoration-color: #000000\"> </span><span style=\"color: #808000; text-decoration-color: #808000\">format</span><span style=\"color: #000000; text-decoration-color: #000000\">=</span><span style=\"color: #008000; text-decoration-color: #008000\">\"capitalize two-words\"</span><span style=\"color: #000000; text-decoration-color: #000000\"> </span><span style=\"color: #800080; text-decoration-color: #800080\">/</span><span style=\"color: #000000; text-decoration-color: #000000\">&gt;&lt;integer </span><span style=\"color: #808000; text-decoration-color: #808000\">name</span><span style=\"color: #000000; text-decoration-color: #000000\">=</span><span style=\"color: #008000; text-decoration-color: #008000\">\"index\"</span><span style=\"color: #000000; text-decoration-color: #000000\"> </span><span style=\"color: #808000; text-decoration-color: #808000\">format</span><span style=\"color: #000000; text-decoration-color: #000000\">=</span><span style=\"color: #008000; text-decoration-color: #008000\">\"1-indexed\"</span><span style=\"color: #000000; text-decoration-color: #000000\"> </span>\n",
       "<span style=\"color: #800080; text-decoration-color: #800080\">/</span><span style=\"color: #000000; text-decoration-color: #000000\">&gt;&lt;</span><span style=\"color: #800080; text-decoration-color: #800080\">/</span><span style=\"color: #ff00ff; text-decoration-color: #ff00ff\">object</span><span style=\"color: #000000; text-decoration-color: #000000\">&gt;` =</span><span style=\"font-weight: bold\">&gt;</span> `<span style=\"font-weight: bold\">{</span><span style=\"color: #008000; text-decoration-color: #008000\">'baz'</span>: <span style=\"font-weight: bold\">{</span><span style=\"color: #008000; text-decoration-color: #008000\">'foo'</span>: <span style=\"color: #008000; text-decoration-color: #008000\">'Some String'</span>, <span style=\"color: #008000; text-decoration-color: #008000\">'index'</span>: <span style=\"color: #008080; text-decoration-color: #008080; font-weight: bold\">1</span><span style=\"font-weight: bold\">}}</span>`\n",
       "\n",
       "</pre>\n"
      ],
      "text/plain": [
       "\n",
       "Given the following high level leetcode problem description, write a short Python code snippet that solves the \n",
       "problem.\n",
       "\n",
       "Problem Description:\n",
       "\n",
       "Given a string s, find the longest palindromic substring in s. You may assume that the maximum length of s is \u001b[1;36m1000\u001b[0m.\n",
       "\n",
       "\n",
       "\n",
       "Given below is XML that describes the information to extract from this document and the tags to extract it into.\n",
       "\n",
       "\u001b[1m<\u001b[0m\u001b[1;95moutput\u001b[0m\u001b[39m>\u001b[0m\n",
       "\u001b[39m  <string \u001b[0m\u001b[33mformat\u001b[0m\u001b[39m=\u001b[0m\u001b[32m\"reflex\u001b[0m\u001b[32m/valid_python\"\u001b[0m\u001b[39m \u001b[0m\u001b[33mname\u001b[0m\u001b[39m=\u001b[0m\u001b[32m\"python_code\"\u001b[0m\u001b[39m \u001b[0m\u001b[33mrequired\u001b[0m\u001b[39m=\u001b[0m\u001b[32m\"true\"\u001b[0m\u001b[39m><\u001b[0m\u001b[35m/\u001b[0m\u001b[95mstring\u001b[0m\u001b[39m>\u001b[0m\n",
       "\u001b[39m<\u001b[0m\u001b[35m/\u001b[0m\u001b[95moutput\u001b[0m\u001b[39m>\u001b[0m\n",
       "\n",
       "\u001b[39mONLY return a valid JSON object \u001b[0m\u001b[1;39m(\u001b[0m\u001b[39mno other text is necessary\u001b[0m\u001b[1;39m)\u001b[0m\u001b[39m, where the key of the field in JSON is the `name` \u001b[0m\n",
       "\u001b[39mattribute of the corresponding XML, and the value is of the type specified by the corresponding XML's tag. The JSON\u001b[0m\n",
       "\u001b[39mMUST conform to the XML format, including any types and format requests e.g. requests for lists, objects and \u001b[0m\n",
       "\u001b[39mspecific types. Be correct and concise. If you are unsure anywhere, enter `null`.\u001b[0m\n",
       "\n",
       "\u001b[39mHere are examples of simple \u001b[0m\u001b[1;39m(\u001b[0m\u001b[39mXML, JSON\u001b[0m\u001b[1;39m)\u001b[0m\u001b[39m pairs that show the expected behavior:\u001b[0m\n",
       "\u001b[39m- `<string \u001b[0m\u001b[33mname\u001b[0m\u001b[39m=\u001b[0m\u001b[32m'foo'\u001b[0m\u001b[39m \u001b[0m\u001b[33mformat\u001b[0m\u001b[39m=\u001b[0m\u001b[32m'two-words lower-case'\u001b[0m\u001b[39m \u001b[0m\u001b[35m/\u001b[0m\u001b[39m>` => `\u001b[0m\u001b[1;39m{\u001b[0m\u001b[32m'foo'\u001b[0m\u001b[39m: \u001b[0m\u001b[32m'example one'\u001b[0m\u001b[1;39m}\u001b[0m\u001b[39m`\u001b[0m\n",
       "\u001b[39m- `<list \u001b[0m\u001b[33mname\u001b[0m\u001b[39m=\u001b[0m\u001b[32m'bar'\u001b[0m\u001b[39m><string \u001b[0m\u001b[33mformat\u001b[0m\u001b[39m=\u001b[0m\u001b[32m'upper-case'\u001b[0m\u001b[39m \u001b[0m\u001b[35m/\u001b[0m\u001b[39m><\u001b[0m\u001b[35m/\u001b[0m\u001b[95mlist\u001b[0m\u001b[39m>` => `\u001b[0m\u001b[1;39m{\u001b[0m\u001b[32m\"bar\"\u001b[0m\u001b[39m: \u001b[0m\u001b[1;39m[\u001b[0m\u001b[32m'STRING ONE'\u001b[0m\u001b[39m, \u001b[0m\u001b[32m'STRING TWO'\u001b[0m\u001b[39m, etc.\u001b[0m\u001b[1;39m]\u001b[0m\u001b[1;39m}\u001b[0m\u001b[39m`\u001b[0m\n",
       "\u001b[39m- `<object \u001b[0m\u001b[33mname\u001b[0m\u001b[39m=\u001b[0m\u001b[32m'baz'\u001b[0m\u001b[39m><string \u001b[0m\u001b[33mname\u001b[0m\u001b[39m=\u001b[0m\u001b[32m\"foo\"\u001b[0m\u001b[39m \u001b[0m\u001b[33mformat\u001b[0m\u001b[39m=\u001b[0m\u001b[32m\"capitalize\u001b[0m\u001b[32m two-words\"\u001b[0m\u001b[39m \u001b[0m\u001b[35m/\u001b[0m\u001b[39m><integer \u001b[0m\u001b[33mname\u001b[0m\u001b[39m=\u001b[0m\u001b[32m\"index\"\u001b[0m\u001b[39m \u001b[0m\u001b[33mformat\u001b[0m\u001b[39m=\u001b[0m\u001b[32m\"1\u001b[0m\u001b[32m-indexed\"\u001b[0m\u001b[39m \u001b[0m\n",
       "\u001b[35m/\u001b[0m\u001b[39m><\u001b[0m\u001b[35m/\u001b[0m\u001b[95mobject\u001b[0m\u001b[39m>` =\u001b[0m\u001b[1m>\u001b[0m `\u001b[1m{\u001b[0m\u001b[32m'baz'\u001b[0m: \u001b[1m{\u001b[0m\u001b[32m'foo'\u001b[0m: \u001b[32m'Some String'\u001b[0m, \u001b[32m'index'\u001b[0m: \u001b[1;36m1\u001b[0m\u001b[1m}\u001b[0m\u001b[1m}\u001b[0m`\n",
       "\n"
      ]
     },
     "metadata": {},
     "output_type": "display_data"
    }
   ],
   "source": [
    "print(guard.history.last.iterations[-1].inputs.msg_history[0][\"content\"])"
   ]
  },
  {
   "attachments": {},
   "cell_type": "markdown",
   "metadata": {},
   "source": [
    "Running the cell above returns:\n",
    "1. The raw LLM text output as a single string.\n",
    "2. A dictionary where the key is `python_code` and the value is the generated code."
   ]
  },
  {
   "cell_type": "code",
   "execution_count": 26,
   "metadata": {},
   "outputs": [
    {
     "data": {
      "text/html": [
       "<pre style=\"white-space:pre;overflow-x:auto;line-height:normal;font-family:Menlo,'DejaVu Sans Mono',consolas,'Courier New',monospace\"><span style=\"font-weight: bold\">{</span>\n",
       "    <span style=\"color: #008000; text-decoration-color: #008000\">'python_code'</span>: <span style=\"color: #008000; text-decoration-color: #008000\">\"def longest_palindrome(s):\\n    n = len(s)\\n    if n == 0:\\n        return ''\\n    dp = </span>\n",
       "<span style=\"color: #008000; text-decoration-color: #008000\">[[False] * n for _ in range(n)]\\n    start, max_length = 0, 1\\n    for i in range(n):\\n        dp[i][i] = True\\n   </span>\n",
       "<span style=\"color: #008000; text-decoration-color: #008000\">for i in range(n-1):\\n        if s[i] == s[i+1]:\\n            dp[i][i+1] = True\\n            start = i\\n           </span>\n",
       "<span style=\"color: #008000; text-decoration-color: #008000\">max_length = 2\\n    for length in range(3, n+1):\\n        for i in range(n-length+1):\\n            j = i + length -</span>\n",
       "<span style=\"color: #008000; text-decoration-color: #008000\">1\\n            if s[i] == s[j] and dp[i+1][j-1]:\\n                dp[i][j] = True\\n                start = i\\n     </span>\n",
       "<span style=\"color: #008000; text-decoration-color: #008000\">max_length = length\\n    return s[start:start+max_length]\"</span>\n",
       "<span style=\"font-weight: bold\">}</span>\n",
       "</pre>\n"
      ],
      "text/plain": [
       "\u001b[1m{\u001b[0m\n",
       "    \u001b[32m'python_code'\u001b[0m: \u001b[32m\"def longest_palindrome\u001b[0m\u001b[32m(\u001b[0m\u001b[32ms\u001b[0m\u001b[32m)\u001b[0m\u001b[32m:\\n    n = len\u001b[0m\u001b[32m(\u001b[0m\u001b[32ms\u001b[0m\u001b[32m)\u001b[0m\u001b[32m\\n    if n == 0:\\n        return ''\\n    dp = \u001b[0m\n",
       "\u001b[32m[\u001b[0m\u001b[32m[\u001b[0m\u001b[32mFalse\u001b[0m\u001b[32m]\u001b[0m\u001b[32m * n for _ in range\u001b[0m\u001b[32m(\u001b[0m\u001b[32mn\u001b[0m\u001b[32m)\u001b[0m\u001b[32m]\u001b[0m\u001b[32m\\n    start, max_length = 0, 1\\n    for i in range\u001b[0m\u001b[32m(\u001b[0m\u001b[32mn\u001b[0m\u001b[32m)\u001b[0m\u001b[32m:\\n        dp\u001b[0m\u001b[32m[\u001b[0m\u001b[32mi\u001b[0m\u001b[32m]\u001b[0m\u001b[32m[\u001b[0m\u001b[32mi\u001b[0m\u001b[32m]\u001b[0m\u001b[32m = True\\n   \u001b[0m\n",
       "\u001b[32mfor i in range\u001b[0m\u001b[32m(\u001b[0m\u001b[32mn-1\u001b[0m\u001b[32m)\u001b[0m\u001b[32m:\\n        if s\u001b[0m\u001b[32m[\u001b[0m\u001b[32mi\u001b[0m\u001b[32m]\u001b[0m\u001b[32m == s\u001b[0m\u001b[32m[\u001b[0m\u001b[32mi+1\u001b[0m\u001b[32m]\u001b[0m\u001b[32m:\\n            dp\u001b[0m\u001b[32m[\u001b[0m\u001b[32mi\u001b[0m\u001b[32m]\u001b[0m\u001b[32m[\u001b[0m\u001b[32mi+1\u001b[0m\u001b[32m]\u001b[0m\u001b[32m = True\\n            start = i\\n           \u001b[0m\n",
       "\u001b[32mmax_length = 2\\n    for length in range\u001b[0m\u001b[32m(\u001b[0m\u001b[32m3, n+1\u001b[0m\u001b[32m)\u001b[0m\u001b[32m:\\n        for i in range\u001b[0m\u001b[32m(\u001b[0m\u001b[32mn-length+1\u001b[0m\u001b[32m)\u001b[0m\u001b[32m:\\n            j = i + length -\u001b[0m\n",
       "\u001b[32m1\\n            if s\u001b[0m\u001b[32m[\u001b[0m\u001b[32mi\u001b[0m\u001b[32m]\u001b[0m\u001b[32m == s\u001b[0m\u001b[32m[\u001b[0m\u001b[32mj\u001b[0m\u001b[32m]\u001b[0m\u001b[32m and dp\u001b[0m\u001b[32m[\u001b[0m\u001b[32mi+1\u001b[0m\u001b[32m]\u001b[0m\u001b[32m[\u001b[0m\u001b[32mj-1\u001b[0m\u001b[32m]\u001b[0m\u001b[32m:\\n                dp\u001b[0m\u001b[32m[\u001b[0m\u001b[32mi\u001b[0m\u001b[32m]\u001b[0m\u001b[32m[\u001b[0m\u001b[32mj\u001b[0m\u001b[32m]\u001b[0m\u001b[32m = True\\n                start = i\\n     \u001b[0m\n",
       "\u001b[32mmax_length = length\\n    return s\u001b[0m\u001b[32m[\u001b[0m\u001b[32mstart:start+max_length\u001b[0m\u001b[32m]\u001b[0m\u001b[32m\"\u001b[0m\n",
       "\u001b[1m}\u001b[0m\n"
      ]
     },
     "metadata": {},
     "output_type": "display_data"
    }
   ],
   "source": [
    "print(response.validated_output)"
   ]
  },
  {
   "attachments": {},
   "cell_type": "markdown",
   "metadata": {},
   "source": [
    "Here's the generated code:"
   ]
  },
  {
   "cell_type": "code",
   "execution_count": 27,
   "metadata": {},
   "outputs": [
    {
     "data": {
      "text/html": [
       "<pre style=\"white-space:pre;overflow-x:auto;line-height:normal;font-family:Menlo,'DejaVu Sans Mono',consolas,'Courier New',monospace\">def <span style=\"color: #800080; text-decoration-color: #800080; font-weight: bold\">longest_palindrome</span><span style=\"font-weight: bold\">(</span>s<span style=\"font-weight: bold\">)</span>:\n",
       "    n = <span style=\"color: #800080; text-decoration-color: #800080; font-weight: bold\">len</span><span style=\"font-weight: bold\">(</span>s<span style=\"font-weight: bold\">)</span>\n",
       "    if n == <span style=\"color: #008080; text-decoration-color: #008080; font-weight: bold\">0</span>:\n",
       "        return <span style=\"color: #008000; text-decoration-color: #008000\">''</span>\n",
       "    dp = <span style=\"font-weight: bold\">[[</span><span style=\"color: #ff0000; text-decoration-color: #ff0000; font-style: italic\">False</span><span style=\"font-weight: bold\">]</span> * n for _ in <span style=\"color: #800080; text-decoration-color: #800080; font-weight: bold\">range</span><span style=\"font-weight: bold\">(</span>n<span style=\"font-weight: bold\">)]</span>\n",
       "    start, max_length = <span style=\"color: #008080; text-decoration-color: #008080; font-weight: bold\">0</span>, <span style=\"color: #008080; text-decoration-color: #008080; font-weight: bold\">1</span>\n",
       "    for i in <span style=\"color: #800080; text-decoration-color: #800080; font-weight: bold\">range</span><span style=\"font-weight: bold\">(</span>n<span style=\"font-weight: bold\">)</span>:\n",
       "        dp<span style=\"font-style: italic\"> = </span><span style=\"color: #00ff00; text-decoration-color: #00ff00; font-style: italic\">True</span>\n",
       "<span style=\"font-style: italic\">    for i in </span><span style=\"color: #800080; text-decoration-color: #800080; font-weight: bold; font-style: italic\">range</span><span style=\"font-weight: bold; font-style: italic\">(</span><span style=\"font-style: italic\">n-</span><span style=\"color: #008080; text-decoration-color: #008080; font-weight: bold; font-style: italic\">1</span><span style=\"font-weight: bold; font-style: italic\">)</span><span style=\"font-style: italic\">:</span>\n",
       "<span style=\"font-style: italic\">        if s == s:</span>\n",
       "<span style=\"font-style: italic\">            dp = </span><span style=\"color: #00ff00; text-decoration-color: #00ff00; font-style: italic\">True</span>\n",
       "<span style=\"font-style: italic\">            start = i</span>\n",
       "<span style=\"font-style: italic\">            max_length = </span><span style=\"color: #008080; text-decoration-color: #008080; font-weight: bold; font-style: italic\">2</span>\n",
       "<span style=\"font-style: italic\">    for length in </span><span style=\"color: #800080; text-decoration-color: #800080; font-weight: bold; font-style: italic\">range</span><span style=\"font-weight: bold; font-style: italic\">(</span><span style=\"color: #008080; text-decoration-color: #008080; font-weight: bold; font-style: italic\">3</span><span style=\"font-style: italic\">, n+</span><span style=\"color: #008080; text-decoration-color: #008080; font-weight: bold; font-style: italic\">1</span><span style=\"font-weight: bold; font-style: italic\">)</span><span style=\"font-style: italic\">:</span>\n",
       "<span style=\"font-style: italic\">        for i in </span><span style=\"color: #800080; text-decoration-color: #800080; font-weight: bold; font-style: italic\">range</span><span style=\"font-weight: bold; font-style: italic\">(</span><span style=\"font-style: italic\">n-length+</span><span style=\"color: #008080; text-decoration-color: #008080; font-weight: bold; font-style: italic\">1</span><span style=\"font-weight: bold; font-style: italic\">)</span><span style=\"font-style: italic\">:</span>\n",
       "<span style=\"font-style: italic\">            j = i + length - </span><span style=\"color: #008080; text-decoration-color: #008080; font-weight: bold; font-style: italic\">1</span>\n",
       "<span style=\"font-style: italic\">            if s == s and dp:</span>\n",
       "<span style=\"font-style: italic\">                dp = </span><span style=\"color: #00ff00; text-decoration-color: #00ff00; font-style: italic\">True</span>\n",
       "<span style=\"font-style: italic\">                start = i</span>\n",
       "<span style=\"font-style: italic\">                max_length = length</span>\n",
       "<span style=\"font-style: italic\">    return s</span>\n",
       "</pre>\n"
      ],
      "text/plain": [
       "def \u001b[1;35mlongest_palindrome\u001b[0m\u001b[1m(\u001b[0ms\u001b[1m)\u001b[0m:\n",
       "    n = \u001b[1;35mlen\u001b[0m\u001b[1m(\u001b[0ms\u001b[1m)\u001b[0m\n",
       "    if n == \u001b[1;36m0\u001b[0m:\n",
       "        return \u001b[32m''\u001b[0m\n",
       "    dp = \u001b[1m[\u001b[0m\u001b[1m[\u001b[0m\u001b[3;91mFalse\u001b[0m\u001b[1m]\u001b[0m * n for _ in \u001b[1;35mrange\u001b[0m\u001b[1m(\u001b[0mn\u001b[1m)\u001b[0m\u001b[1m]\u001b[0m\n",
       "    start, max_length = \u001b[1;36m0\u001b[0m, \u001b[1;36m1\u001b[0m\n",
       "    for i in \u001b[1;35mrange\u001b[0m\u001b[1m(\u001b[0mn\u001b[1m)\u001b[0m:\n",
       "        dp\u001b[3m = \u001b[0m\u001b[3;92mTrue\u001b[0m\n",
       "\u001b[3m    for i in \u001b[0m\u001b[1;3;35mrange\u001b[0m\u001b[1;3m(\u001b[0m\u001b[3mn-\u001b[0m\u001b[1;3;36m1\u001b[0m\u001b[1;3m)\u001b[0m\u001b[3m:\u001b[0m\n",
       "\u001b[3m        if s\u001b[0m\u001b[3m == s\u001b[0m\u001b[3m:\u001b[0m\n",
       "\u001b[3m            dp\u001b[0m\u001b[3m = \u001b[0m\u001b[3;92mTrue\u001b[0m\n",
       "\u001b[3m            start = i\u001b[0m\n",
       "\u001b[3m            max_length = \u001b[0m\u001b[1;3;36m2\u001b[0m\n",
       "\u001b[3m    for length in \u001b[0m\u001b[1;3;35mrange\u001b[0m\u001b[1;3m(\u001b[0m\u001b[1;3;36m3\u001b[0m\u001b[3m, n+\u001b[0m\u001b[1;3;36m1\u001b[0m\u001b[1;3m)\u001b[0m\u001b[3m:\u001b[0m\n",
       "\u001b[3m        for i in \u001b[0m\u001b[1;3;35mrange\u001b[0m\u001b[1;3m(\u001b[0m\u001b[3mn-length+\u001b[0m\u001b[1;3;36m1\u001b[0m\u001b[1;3m)\u001b[0m\u001b[3m:\u001b[0m\n",
       "\u001b[3m            j = i + length - \u001b[0m\u001b[1;3;36m1\u001b[0m\n",
       "\u001b[3m            if s\u001b[0m\u001b[3m == s\u001b[0m\u001b[3m and dp\u001b[0m\u001b[3m:\u001b[0m\n",
       "\u001b[3m                dp\u001b[0m\u001b[3m = \u001b[0m\u001b[3;92mTrue\u001b[0m\n",
       "\u001b[3m                start = i\u001b[0m\n",
       "\u001b[3m                max_length = length\u001b[0m\n",
       "\u001b[3m    return s\u001b[0m\n"
      ]
     },
     "metadata": {},
     "output_type": "display_data"
    }
   ],
   "source": [
    "if response.validated_output is not None:\n",
    "    print(response.validated_output[\"python_code\"])\n",
    "elif response.error is not None:\n",
    "    print(response.error)"
   ]
  },
  {
   "attachments": {},
   "cell_type": "markdown",
   "metadata": {},
   "source": [
    "We can confirm that the code is bug free by executing the code in the environment."
   ]
  },
  {
   "cell_type": "code",
   "execution_count": 28,
   "metadata": {},
   "outputs": [
    {
     "data": {
      "text/html": [
       "<pre style=\"white-space:pre;overflow-x:auto;line-height:normal;font-family:Menlo,'DejaVu Sans Mono',consolas,'Courier New',monospace\">Success!\n",
       "</pre>\n"
      ],
      "text/plain": [
       "Success!\n"
      ]
     },
     "metadata": {},
     "output_type": "display_data"
    }
   ],
   "source": [
    "try:\n",
    "    exec(response.validated_output[\"python_code\"])\n",
    "    print(\"Success!\")\n",
    "except Exception as e:\n",
    "    print(\"Failed!\")"
   ]
  }
 ],
 "metadata": {
  "kernelspec": {
   "display_name": "tiff-env",
   "language": "python",
   "name": "python3"
  },
  "language_info": {
   "codemirror_mode": {
    "name": "ipython",
    "version": 3
   },
   "file_extension": ".py",
   "mimetype": "text/x-python",
   "name": "python",
   "nbconvert_exporter": "python",
   "pygments_lexer": "ipython3",
   "version": "3.12.1"
  },
  "orig_nbformat": 4,
  "vscode": {
   "interpreter": {
    "hash": "ef14f49bbc779f2fde64ca0552c2a99d578405052f5b73f61279551da311a8a1"
   }
  }
 },
 "nbformat": 4,
 "nbformat_minor": 2
}
